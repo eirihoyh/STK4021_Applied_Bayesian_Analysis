{
 "cells": [
  {
   "cell_type": "markdown",
   "metadata": {},
   "source": [
    "# Sigaret consumption and Gamma Normal distribution\n",
    "\n",
    "__NOTE:__ This notebook only solves 22f) and 22g). These are build upon results derived in Nils Collection Exercise 22. \n",
    "\n",
    "Information about the data:\n",
    "\n",
    "The data are per capita numbers of cigarettes smoked (sold) \n",
    "by 43 states and the District of Columbia in 1960 \n",
    "together with death rates per thouusand population \n",
    "from various forms of cancer.\n",
    "\n",
    "Variable Names:\n",
    "  1. CIG = Number of cigarettes smoked (hds per capita)\n",
    "  2. BLAD = Deaths per 100K population from bladder cancer\n",
    "  3. LUNG = Deathes per 100K population from lung cancer\n",
    "  4. KID = Deaths per 100K population from bladder cancer\n",
    "  5. LEUK = Deaths per 100 K population from leukemi"
   ]
  },
  {
   "cell_type": "code",
   "execution_count": 3,
   "metadata": {},
   "outputs": [
    {
     "data": {
      "text/html": [
       "<div>\n",
       "<style scoped>\n",
       "    .dataframe tbody tr th:only-of-type {\n",
       "        vertical-align: middle;\n",
       "    }\n",
       "\n",
       "    .dataframe tbody tr th {\n",
       "        vertical-align: top;\n",
       "    }\n",
       "\n",
       "    .dataframe thead th {\n",
       "        text-align: right;\n",
       "    }\n",
       "</style>\n",
       "<table border=\"1\" class=\"dataframe\">\n",
       "  <thead>\n",
       "    <tr style=\"text-align: right;\">\n",
       "      <th></th>\n",
       "      <th>CIG</th>\n",
       "      <th>BLAD</th>\n",
       "      <th>LUNG</th>\n",
       "      <th>KID</th>\n",
       "      <th>LEUK</th>\n",
       "    </tr>\n",
       "  </thead>\n",
       "  <tbody>\n",
       "    <tr>\n",
       "      <th>39</th>\n",
       "      <td>21.17</td>\n",
       "      <td>4.04</td>\n",
       "      <td>20.34</td>\n",
       "      <td>2.78</td>\n",
       "      <td>7.48</td>\n",
       "    </tr>\n",
       "    <tr>\n",
       "      <th>40</th>\n",
       "      <td>21.25</td>\n",
       "      <td>5.14</td>\n",
       "      <td>20.55</td>\n",
       "      <td>2.34</td>\n",
       "      <td>6.73</td>\n",
       "    </tr>\n",
       "    <tr>\n",
       "      <th>41</th>\n",
       "      <td>22.86</td>\n",
       "      <td>4.78</td>\n",
       "      <td>15.53</td>\n",
       "      <td>3.28</td>\n",
       "      <td>7.38</td>\n",
       "    </tr>\n",
       "    <tr>\n",
       "      <th>42</th>\n",
       "      <td>28.04</td>\n",
       "      <td>3.20</td>\n",
       "      <td>15.92</td>\n",
       "      <td>2.66</td>\n",
       "      <td>5.78</td>\n",
       "    </tr>\n",
       "    <tr>\n",
       "      <th>43</th>\n",
       "      <td>30.34</td>\n",
       "      <td>3.46</td>\n",
       "      <td>25.88</td>\n",
       "      <td>4.32</td>\n",
       "      <td>4.90</td>\n",
       "    </tr>\n",
       "  </tbody>\n",
       "</table>\n",
       "</div>"
      ],
      "text/plain": [
       "      CIG  BLAD   LUNG   KID  LEUK\n",
       "39  21.17  4.04  20.34  2.78  7.48\n",
       "40  21.25  5.14  20.55  2.34  6.73\n",
       "41  22.86  4.78  15.53  3.28  7.38\n",
       "42  28.04  3.20  15.92  2.66  5.78\n",
       "43  30.34  3.46  25.88  4.32  4.90"
      ]
     },
     "execution_count": 3,
     "metadata": {},
     "output_type": "execute_result"
    }
   ],
   "source": [
    "import pandas as pd\n",
    "with open(\"../data/cigarette_data2\", \"r\") as f:\n",
    "    describe_data = [f.readline() for _ in range(16)]\n",
    "    data = f.readlines(-1)\n",
    "    \n",
    "df = pd.DataFrame([row.replace(\"\\n\", \"\").split(\"\\t\")[1:] for row in data], columns=[\"CIG\", \"BLAD\", \"LUNG\", \"KID\", \"LEUK\"], dtype=float)\n",
    "df.tail()"
   ]
  },
  {
   "cell_type": "code",
   "execution_count": 4,
   "metadata": {},
   "outputs": [
    {
     "data": {
      "image/png": "[encoded data removed]",
      "text/plain": [
       "<Figure size 864x576 with 1 Axes>"
      ]
     },
     "metadata": {
      "needs_background": "light"
     },
     "output_type": "display_data"
    }
   ],
   "source": [
    "import matplotlib.pyplot as plt\n",
    "x = df.CIG  # NUmber of cigarettes smoked (hds pr capita)\n",
    "y = df.LUNG  # Death per 100k population lung cancer\n",
    "\n",
    "plt.figure(figsize=(12,8))\n",
    "plt.plot(x, y, 'o')\n",
    "plt.show()"
   ]
  },
  {
   "cell_type": "markdown",
   "metadata": {},
   "source": [
    "## Definding prior, likelihood and posterior\n",
    "\n",
    "Prior (a Gamma Normal):\n",
    "\n",
    "$$(\\mu, \\lambda) \\sim GN(a,b,\\mu_0,v)$$\n",
    "\n",
    "where \n",
    "\n",
    "$$(\\mu, \\lambda) \\propto \\lambda^{a-\\frac12} e^{-\\lambda(b+\\frac12 v(\\mu - \\mu_0)^2)}$$\n",
    "\n",
    "The likelihood (a Normal function):\n",
    "\n",
    "$$L_n(\\mu,\\sigma) = exp\\left[\\frac12 n log(\\lambda) - \\frac12 \\lambda (Q_0 + n(\\mu - \\bar{y})^2\\right]$$\n",
    "\n",
    "Note that $Q_0 = \\sum_{i=1}^n (y_i - \\bar{y})^2$ \n",
    "\n",
    "The posterior (also a Gamma Normal):\n",
    "\n",
    "$$(\\mu, \\lambda) | data \\sim GN\\left(a + \\frac12 n, b + \\frac12 Q_0 + \\frac12 d_n (\\bar{y} - \\mu_0)^2 , \\mu^*, v+n\\right)$$\n",
    "\n",
    "Note that $d_n = (v^{-1} + n^{-1})^{-1}$ and $\\mu^* = \\frac{v\\mu_0 + n\\bar{y}}{v+n}$\n",
    "\n",
    "This posterior is proportional to:\n",
    "\n",
    "$$\\propto \\lambda^{(a + \\frac12 n)-\\frac12} exp\\Bigg[-\\lambda \\left( (b + \\frac12 Q_0 + \\frac12 d_n (\\bar{y} - \\mu_0)^2) + \\frac12 (v+n) (\\mu - \\mu^*)^2 \\right)\\Bigg]$$"
   ]
  },
  {
   "cell_type": "markdown",
   "metadata": {},
   "source": [
    "#### Lets do ex 22f) and 22g)\n",
    "\n",
    "_Use a gamma prior for $\\frac{1}{\\sigma^2}$ (aka $\\lambda$) such that 0.10 and 0.90 prior quantiles of $\\sigma$ are respectively 2.2 and 7.7._\n",
    "\n",
    "Lets try to do that using non-linear minimization.\n",
    "\n",
    "$$\\lambda = \\frac{1}{\\sigma^2} \\sim G(a,b)$$\n",
    "\n",
    "SO, we want to find sigma such that \n",
    "\n",
    "$$Pr(\\sigma \\leq 2.2) = 0.10 \\text{ and } Pr(\\sigma \\leq 7.7) = 0.90$$\n",
    "\n",
    "This can be done using the fact that $\\frac{1}{\\sigma^2}$ (aka $\\lambda$) is a Gamma distribution. To calcualte e.g. the first term it will look something like this:\n",
    "\n",
    "$$\\Rightarrow Pr(\\frac{1}{\\sigma^2} \\geq \\frac{1}{2.2^2}) = 0.10$$\n",
    "\n",
    "This can not be calculated by hand, so we need to use Python to solve the problem and minimize our a and b values. We can do that by using non-linear minimization: "
   ]
  },
  {
   "cell_type": "code",
   "execution_count": 5,
   "metadata": {},
   "outputs": [
    {
     "name": "stdout",
     "output_type": "stream",
     "text": [
      "1.3730572255120217 14.151009047843008\n",
      "0.09999634443838235\n",
      "0.8999921819266536\n"
     ]
    }
   ],
   "source": [
    "import scipy.stats as stats\n",
    "import scipy.optimize as opti\n",
    "import numpy as np\n",
    "n = len(y)\n",
    "y_bar = np.mean(y)  # mean of y (average of death rate lung cancer)\n",
    "Q0 = sum((y-y_bar)**2)\n",
    "\n",
    "sigma_low = 2.2\n",
    "sigma_high = 7.7\n",
    "\n",
    "def Q(params):\n",
    "    '''\n",
    "    This is defined in Nils 23 (I think)\n",
    "    '''\n",
    "    a = params[0]\n",
    "    b = params[1]\n",
    "    \n",
    "    upper = 1 - stats.gamma.cdf(1/sigma_high**2, a, scale=1/b) - 0.90\n",
    "    lower = 1 - stats.gamma.cdf(1/sigma_low**2, a, scale=1/b) - 0.10\n",
    "    \n",
    "    return upper**2 + lower**2\n",
    "\n",
    "minimize = opti.minimize(Q, [4.0,4.0])\n",
    "\n",
    "a0, b0 = minimize[\"x\"]\n",
    "\n",
    "print(a0, b0)\n",
    "# check that we get the right probabilities\n",
    "print(1 - stats.gamma.cdf(x=1/(sigma_low**2), a=1.3730, scale=1/14.1507))  # should be 0.1\n",
    "print(1 - stats.gamma.cdf(x=1/(sigma_high**2), a=1.3730, scale=1/14.1507))  # should be 0.9"
   ]
  },
  {
   "cell_type": "markdown",
   "metadata": {},
   "source": [
    "Now that we have gotten our $a_0$ and $b_0$, we can continue with the exercise.\n",
    "\n",
    "Now, using a $N(15, (3.3\\sigma)^2)$ for $\\mu$ given $\\sigma$. Find 95% credibility intervals for $\\mu$, for $\\sigma$, and for the probability that $y\\geq 25.0$.\n",
    "\n",
    "Normaly, we can write our condtitional Normal distribution as \n",
    "\n",
    "$$\\mu | \\sigma \\sim N(\\mu_0, \\frac{\\sigma^2}{v})$$\n",
    "\n",
    "Meaning that $v^2 = \\frac{1}{3.3^2}$ in this case. $\\mu_0$ will obviously be 15.\n",
    "\n",
    "Formulas used:\n",
    "\n",
    "$$\\mu^* = \\frac{v\\mu_0 + n\\bar{y}}{v+n}$$\n",
    "\n",
    "and \n",
    "\n",
    "$$d_n = (v^{-1} + n^{-1})^{-1} = \\frac{1}{\\frac{1}{v_0} + \\frac{1}{n}}$$"
   ]
  },
  {
   "cell_type": "code",
   "execution_count": 7,
   "metadata": {},
   "outputs": [
    {
     "name": "stdout",
     "output_type": "stream",
     "text": [
      "19.6435 0.0916\n"
     ]
    }
   ],
   "source": [
    "mu0 = 15.0\n",
    "v0 = 1/3.3**2  # from ex 22c) \n",
    "\n",
    "# from 22d) and p. 68 in BDA\n",
    "mu_star = (v0*mu0 + n*y_bar)/(v0 + n)  # our new, updated mu\n",
    "dn = 1/(1/v0 + 1/n)\n",
    "print(round(mu_star, 4), round(dn, 4))"
   ]
  },
  {
   "cell_type": "markdown",
   "metadata": {},
   "source": [
    "Now we want to update our parameters (to use in our posterior GN derived from above (and Nils 22 and Ch. 3.2-3.3 in BDA))"
   ]
  },
  {
   "cell_type": "code",
   "execution_count": 8,
   "metadata": {},
   "outputs": [
    {
     "name": "stdout",
     "output_type": "stream",
     "text": [
      "Prior:\n",
      "GN(1.3731, 14.151, 15.0, 0.0918)\n",
      "Our posterior:\n",
      "GN(23.3731, 399.4988, 19.6435, 44.0918)\n"
     ]
    }
   ],
   "source": [
    "a_new = a0 + 0.5*n\n",
    "b_new = b0 + 0.5*Q0 + 0.5*dn*(y_bar-mu0)**2\n",
    "v_new = v0 + n\n",
    "\n",
    "print(f\"Prior:\\nGN{round(a0, 4), round(b0, 4), round(mu0, 4), round(v0, 4)}\")\n",
    "print(f\"Our posterior:\\nGN{round(a_new, 4), round(b_new, 4), round(mu_star, 4), round(v_new, 4)}\")"
   ]
  },
  {
   "cell_type": "markdown",
   "metadata": {},
   "source": [
    "Nice, now that we have got everything for the GN posterior distribution, we can start simulating.\n",
    "\n",
    "First we want to simulate sigma. This is given as the square root of inverse gamma, this is because (from above and Nils 22(c)):\n",
    "\n",
    "$$\\lambda = 1/\\sigma^2 \\sim Gamma(a,b) \\longrightarrow \\sigma \\sim \\sqrt{\\frac{1}{Gamma(a,b)}}$$\n",
    "\n",
    "Then we want to simulate our $\\mu$ from the conditonal distribution (also from Nils 22(c) and above):\n",
    "\n",
    "$$\\mu | \\sigma \\sim N\\left(\\mu_0, \\frac{\\sigma^2}{v}\\right)$$\n",
    "\n",
    "Here, both $\\mu$ and $\\sigma$ is considured unknown, but since we simulate $\\sigma$ in the first part, and we already have calculated $\\mu*$ we have everything we need to $\\mu$. This is done by taking our updated, $\\mu^*$, and adding random sigma's, based on randomly picked, normal distributed numbers.\n",
    "\n",
    "Our \"new\" normal distribution will be:\n",
    "\n",
    "$$N\\left(\\mu^*, \\frac{\\sigma^2}{v_{new}} \\right)$$"
   ]
  },
  {
   "cell_type": "code",
   "execution_count": 9,
   "metadata": {},
   "outputs": [
    {
     "name": "stdout",
     "output_type": "stream",
     "text": [
      "95% cred. interval sigma: [3.4405435  5.18421182]\n",
      "95% cred. interval mu:    [18.38925716 20.88873   ]\n"
     ]
    }
   ],
   "source": [
    "sim = 10**5\n",
    "\n",
    "sigma_sim = 1/(np.sqrt(stats.gamma.rvs(a=a_new, loc=0, scale=1/b_new, size=sim)))\n",
    "\n",
    "# mu for given sigma:\n",
    "mu_sim = mu_star + (sigma_sim/np.sqrt(v_new))* stats.norm.rvs(size=sim)  # we use our new mu, mu_star, and create a random, normal distribution numbers from our simga.\n",
    "\n",
    "print(f\"95% cred. interval sigma: {np.quantile(sigma_sim, [0.025, 0.975])}\")\n",
    "print(f\"95% cred. interval mu:    {np.quantile(mu_sim, [0.025, 0.975])}\")"
   ]
  },
  {
   "cell_type": "markdown",
   "metadata": {},
   "source": [
    "__NOTE:__ we divide our sigma by $\\sqrt{v_{new}}$, this is from our \"new\" normal distribution. Also note that, as $v_{new} \\rightarrow \\infty$, or rather $n \\rightarrow \\infty$, our $\\sigma \\rightarrow 0$. \n",
    "\n",
    "And now 95% credibility interval for $y \\geq 25$. \n",
    "\n",
    "This will be the same as \n",
    "\n",
    "$$Pr(y \\geq 25) = 1 - Pr(y \\leq 25) = 1 - Pr\\left(z \\leq \\frac{y_0 - \\mu}{\\sigma}\\right)$$"
   ]
  },
  {
   "cell_type": "code",
   "execution_count": 10,
   "metadata": {},
   "outputs": [
    {
     "name": "stdout",
     "output_type": "stream",
     "text": [
      "95% cred. interval for Pr(y >= 25): [0.04591839 0.18489819]\n"
     ]
    }
   ],
   "source": [
    "y0 = 25\n",
    "\n",
    "alpha_sim = 1 - stats.norm.cdf((y0 - mu_sim)/sigma_sim)\n",
    "print(f\"95% cred. interval for Pr(y >= 25): {np.quantile(alpha_sim, [0.025, 0.975])}\")"
   ]
  },
  {
   "cell_type": "markdown",
   "metadata": {},
   "source": [
    "#### Let's redo this, but now we'll use a prior that takes mu | sigma flat.\n",
    "\n",
    "This corresponds to v0 = 0 and posterior distribution:\n",
    "\n",
    "$$(\\lambda, \\mu)|data \\sim GN(a_0+\\frac12 n,b_0 + \\frac12 Q_0, \\bar{y}, n)$$\n",
    "\n",
    "(see Nils ex 22e)).\n",
    "\n",
    "Now, we'll do the same taks: \"Find 95% credibility intervals for $\\mu$, for $\\sigma$, and for the probability that $y\\geq 25.0$.\", but only using the flat prior:"
   ]
  },
  {
   "cell_type": "code",
   "execution_count": 11,
   "metadata": {},
   "outputs": [],
   "source": [
    "a_new_flat = a0 + 0.5*n\n",
    "b_new_flat = b0 + 0.5*Q0\n",
    "mu_star_flat = y_bar\n",
    "v_new_flat = n"
   ]
  },
  {
   "cell_type": "markdown",
   "metadata": {},
   "source": [
    "Now we can sim:"
   ]
  },
  {
   "cell_type": "code",
   "execution_count": 12,
   "metadata": {},
   "outputs": [
    {
     "name": "stdout",
     "output_type": "stream",
     "text": [
      "95% cred. interval sigma: [3.43429415 5.17178002]\n",
      "95% cred. interval mu:    [18.40512695 20.91019893]\n"
     ]
    }
   ],
   "source": [
    "sim = 10**5\n",
    "\n",
    "sigma_sim_flat = 1/(np.sqrt(stats.gamma.rvs(a=a_new_flat, loc=0, scale=1/b_new_flat, size=sim)))\n",
    "\n",
    "# mu for given sigma:\n",
    "mu_sim_flat = mu_star_flat + (sigma_sim_flat/np.sqrt(v_new_flat))* stats.norm.rvs(size=sim)\n",
    "\n",
    "print(f\"95% cred. interval sigma: {np.quantile(sigma_sim_flat, [0.025, 0.975])}\")\n",
    "print(f\"95% cred. interval mu:    {np.quantile(mu_sim_flat, [0.025, 0.975])}\")"
   ]
  },
  {
   "cell_type": "markdown",
   "metadata": {},
   "source": [
    "And now 95% credibility interval for $y \\geq 25$"
   ]
  },
  {
   "cell_type": "code",
   "execution_count": 13,
   "metadata": {},
   "outputs": [
    {
     "name": "stdout",
     "output_type": "stream",
     "text": [
      "95% cred. interval for Pr(y >= 25): [0.04600488 0.18564159]\n"
     ]
    }
   ],
   "source": [
    "alpha_sim_flat = 1 - stats.norm.cdf((y0 - mu_sim_flat)/sigma_sim_flat)\n",
    "print(f\"95% cred. interval for Pr(y >= 25): {np.quantile(alpha_sim_flat, [0.025, 0.975])}\")"
   ]
  }
 ],
 "metadata": {
  "kernelspec": {
   "display_name": "Python 3",
   "language": "python",
   "name": "python3"
  },
  "language_info": {
   "codemirror_mode": {
    "name": "ipython",
    "version": 3
   },
   "file_extension": ".py",
   "mimetype": "text/x-python",
   "name": "python",
   "nbconvert_exporter": "python",
   "pygments_lexer": "ipython3",
   "version": "3.8.5"
  }
 },
 "nbformat": 4,
 "nbformat_minor": 4
}
