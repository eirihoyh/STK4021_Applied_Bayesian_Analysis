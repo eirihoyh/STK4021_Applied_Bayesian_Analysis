{
 "cells": [
  {
   "cell_type": "markdown",
   "metadata": {},
   "source": [
    "Inspired by the FocuStat blog post: https://www.mn.uio.no/math/english/research/projects/focustat/the-focustat-blog%21/gaudisquare.html"
   ]
  },
  {
   "cell_type": "markdown",
   "metadata": {},
   "source": [
    "# MCMC - Magic $4 \\times 4$ Square\n",
    "\n",
    "Is it possible that a $4 \\times 4$ square have all rows that sum to 34, all columns sums to 34 and the two diagonals sums to 34, only using the numbers 1, 2, .., 15, 16? Answer yes. The answer, to the questions that was not asked, is that it's hard to find one right away since the board has 16! ($\\approx 2\\cdot 10^{13}$) possible combinations to place the numbers. So, how can we solve such a problem? We can use MCMC!\n",
    "\n",
    "We can define the sum of rows and column as \n",
    "\n",
    "$$r_i(x) = \\sum_j x[i,j] \\quad \\text{ and } \\quad c_i(x) = \\sum_j x[j,i]$$\n",
    "\n",
    "We want these sums to be equal to 34, so we define the functions:\n",
    "\n",
    "$$R(x) = \\sum_i|r_i(x) - 34| = 0 \\quad \\text{ and } \\quad C(x) = \\sum_i |c_i(x) - 34| = 0$$\n",
    "\n",
    "where i = 1,2,3,4. We also want to calculate the diagonals. The diagonals is calculated in a similar fashion, but now wrt the two diagonals.\n",
    "\n",
    "In other words, we want our R(x) = 0, C(x) = 0 and D(x) = 0. We can accomplish this by using a \"nice\" function that Nils gave us:\n",
    "\n",
    "$$f_{\\lambda}(x) = c \\cdot e^{-\\lambda\\{Q(x)\\}}$$\n",
    "\n",
    "where Q(x) = R(x) + C(x) + D(x) and $\\lambda$ is a postive fine-tuning parameter. _c_ is a constant that is almost impossible to solve (Nils told us aboute a norwegian nobel price winner who got his price for approximating this c).\n",
    "\n",
    "To make it possbile to find any magic board (3x3, 5x5 or 10x10) I contructed the following class:"
   ]
  },
  {
   "cell_type": "code",
   "execution_count": 4,
   "metadata": {},
   "outputs": [],
   "source": [
    "import numpy as np\n",
    "import scipy.stats as stats\n",
    "import time\n",
    "\n",
    "class MagicBoard:\n",
    "    \n",
    "    '''\n",
    "    input:\n",
    "        n: \n",
    "            dimension of our n times n matrix (with the unique values 1, 2, ..., n*n)\n",
    "        sim: \n",
    "            number of itterations we want our MCMC to maximumly run for \n",
    "        l: \n",
    "            our lambda, default=1.234\n",
    "        shuffle_basic: \n",
    "            if we want a basic board of values 1, 2, 3, ..., n*n  or \n",
    "            if we want our values to be in random order\n",
    "    \n",
    "    We get a nice, magic sqaure with dimensions n times n by running the \"find_magic\" function.\n",
    "    '''\n",
    "    \n",
    "    def __init__(self, n=4, sim=10**5, l=1.234, shuffle_basic=True):\n",
    "        self.n = n  # number of rows/columns (n x n matrix)\n",
    "        self.l = l  # lambda function\n",
    "        self.sim = sim\n",
    "        self.start_board = self.create_basic_board()\n",
    "        self.wanted_value = np.mean(sum(self.start_board))\n",
    "        if shuffle_basic == True:  # shuffle up my basic board too get random boards each time\n",
    "            for i in range(10**3):\n",
    "                self.start_board = self.new_board(self.start_board)\n",
    "        \n",
    "        self.board_row_and_column = None\n",
    "        self.complete_board = None\n",
    "        \n",
    "    def find_magic(self):\n",
    "        '''\n",
    "        Input:\n",
    "            row_and_col_first:\n",
    "                If we want to find a board with only all rows \n",
    "                and all columns sums equal to our wanted number\n",
    "        return a magic square by using MCMC.\n",
    "        '''\n",
    "        \n",
    "        start = time.time()\n",
    "        self.complete_board = self.mcmc(self.start_board)\n",
    "        end = time.time()\n",
    "        print(f\"Time taken: {round((end-start)/60, 4)}min\")\n",
    "        return self.complete_board\n",
    "       \n",
    "            \n",
    "    def create_basic_board(self):\n",
    "        '''\n",
    "        create a board on the form (e.g)\n",
    "        1 2 3\n",
    "        4 5 6\n",
    "        7 8 9\n",
    "        so n represent number of columns and number of rows\n",
    "        '''     \n",
    "        return np.arange(self.n*self.n).reshape(self.n, -1)+1\n",
    "    \n",
    "    def new_board(self, board):\n",
    "        '''\n",
    "        Takes in a board and propose a change\n",
    "        by changing place of two random positions\n",
    "        '''\n",
    "        new_board = np.copy(board)\n",
    "\n",
    "        row1, column1, row2, column2 = self.random_pos(board.shape)\n",
    "\n",
    "        pos1 = board[row1, column1]\n",
    "        pos2 = board[row2, column2]\n",
    "\n",
    "        new_board[row1, column1], new_board[row2, column2] = pos2, pos1\n",
    "        return new_board\n",
    "    \n",
    "    def random_pos(self, shape):\n",
    "        '''\n",
    "        Two random positions that can swich places\n",
    "        '''\n",
    "\n",
    "        row1 = round(stats.uniform.rvs(0,shape[0]-1))\n",
    "        column1 = round(stats.uniform.rvs(0,shape[1]-1))\n",
    "\n",
    "        row2 = round(stats.uniform.rvs(0,shape[0]-1))\n",
    "        column2 = round(stats.uniform.rvs(0,shape[1]-1))\n",
    "\n",
    "        if row1 == row2 and column1 == column2:\n",
    "            row1, column1, row2, column2 = self.random_pos(shape)\n",
    "\n",
    "        return row1, column1, row2, column2\n",
    "    \n",
    "    def Q(self, x):\n",
    "        '''\n",
    "        feed in a board and get the sum of difference (MAE) for\n",
    "        rows + columns + diagonal.\n",
    "        '''\n",
    "        rows = np.sum([np.abs(np.sum(ri) - self.wanted_value) for ri in x[:,]])\n",
    "        columns = np.sum([np.abs(np.sum(ci) - self.wanted_value) for ci in np.transpose(x[:,])])\n",
    "        diag = np.abs(np.sum(x.diagonal()) - self.wanted_value) + np.abs(np.sum(np.fliplr(x).diagonal()) - self.wanted_value)\n",
    "        return int(rows+columns+diag)\n",
    "    \n",
    "    def mcmc(self, start_board):\n",
    "        '''\n",
    "        Find a magic board using MCMC\n",
    "        '''\n",
    "        mcmc = [0]*self.sim\n",
    "        mcmc[0] = start_board\n",
    "        u1 = stats.uniform.rvs(size=self.sim)\n",
    "\n",
    "        for i in range(1, self.sim, 1):\n",
    "            old_board = mcmc[i-1]\n",
    "            prop_board = self.new_board(old_board)\n",
    "            prop_func = self.Q(prop_board)\n",
    "            old_func = self.Q(old_board)\n",
    "            pracc = min([1, np.exp(-self.l*(prop_func - old_func))])\n",
    "\n",
    "            ok = 1*(u1[i] <= pracc)\n",
    "            mcmc[i] = ok*prop_board + (1-ok)*old_board\n",
    "\n",
    "            if prop_func == 0:\n",
    "                print(f\"FOUND ONE!!!\")\n",
    "                print(f\"Number of itterations: {i}\")\n",
    "                mcmc[-1] = prop_board\n",
    "                break\n",
    "\n",
    "        return mcmc[-1]"
   ]
  },
  {
   "cell_type": "markdown",
   "metadata": {},
   "source": [
    "First a 3x3 magic board:"
   ]
  },
  {
   "cell_type": "code",
   "execution_count": 5,
   "metadata": {},
   "outputs": [
    {
     "data": {
      "text/plain": [
       "15.0"
      ]
     },
     "execution_count": 5,
     "metadata": {},
     "output_type": "execute_result"
    }
   ],
   "source": [
    "magic_3 = MagicBoard(n=3, sim=10**5)\n",
    "magic_3.wanted_value"
   ]
  },
  {
   "cell_type": "code",
   "execution_count": 6,
   "metadata": {},
   "outputs": [
    {
     "name": "stdout",
     "output_type": "stream",
     "text": [
      "FOUND ONE!!!\n",
      "Number of itterations: 785\n",
      "Time taken: 0.0056min\n"
     ]
    },
    {
     "data": {
      "text/plain": [
       "array([[4, 3, 8],\n",
       "       [9, 5, 1],\n",
       "       [2, 7, 6]])"
      ]
     },
     "execution_count": 6,
     "metadata": {},
     "output_type": "execute_result"
    }
   ],
   "source": [
    "magic_3.find_magic()"
   ]
  },
  {
   "cell_type": "markdown",
   "metadata": {},
   "source": [
    "Then a 4x4 magic board:"
   ]
  },
  {
   "cell_type": "code",
   "execution_count": 7,
   "metadata": {},
   "outputs": [
    {
     "data": {
      "text/plain": [
       "34.0"
      ]
     },
     "execution_count": 7,
     "metadata": {},
     "output_type": "execute_result"
    }
   ],
   "source": [
    "magic_4 = MagicBoard(n=4, sim=10**5)\n",
    "magic_4.wanted_value"
   ]
  },
  {
   "cell_type": "code",
   "execution_count": 8,
   "metadata": {},
   "outputs": [
    {
     "name": "stdout",
     "output_type": "stream",
     "text": [
      "FOUND ONE!!!\n",
      "Number of itterations: 7406\n",
      "Time taken: 0.0558min\n"
     ]
    },
    {
     "data": {
      "text/plain": [
       "array([[ 6,  9, 12,  7],\n",
       "       [13,  3,  2, 16],\n",
       "       [ 4, 14, 15,  1],\n",
       "       [11,  8,  5, 10]])"
      ]
     },
     "execution_count": 8,
     "metadata": {},
     "output_type": "execute_result"
    }
   ],
   "source": [
    "magic_4.find_magic()"
   ]
  },
  {
   "cell_type": "markdown",
   "metadata": {},
   "source": [
    "It only took a couple of seconds to find a 4x4 magic board. We can also try to finder even larger boeards. Let's try to find a 5x5 magic board:"
   ]
  },
  {
   "cell_type": "code",
   "execution_count": 9,
   "metadata": {},
   "outputs": [
    {
     "data": {
      "text/plain": [
       "65.0"
      ]
     },
     "execution_count": 9,
     "metadata": {},
     "output_type": "execute_result"
    }
   ],
   "source": [
    "magic_5 = MagicBoard(n=5, sim=10**6)\n",
    "magic_5.wanted_value"
   ]
  },
  {
   "cell_type": "code",
   "execution_count": 10,
   "metadata": {},
   "outputs": [
    {
     "name": "stdout",
     "output_type": "stream",
     "text": [
      "FOUND ONE!!!\n",
      "Number of itterations: 119683\n",
      "Time taken: 0.9022min\n"
     ]
    },
    {
     "data": {
      "text/plain": [
       "array([[11, 18, 12, 15,  9],\n",
       "       [ 6, 19,  5, 13, 22],\n",
       "       [10,  3, 20,  7, 25],\n",
       "       [17,  2, 24, 14,  8],\n",
       "       [21, 23,  4, 16,  1]])"
      ]
     },
     "execution_count": 10,
     "metadata": {},
     "output_type": "execute_result"
    }
   ],
   "source": [
    "magic_5.find_magic()"
   ]
  },
  {
   "cell_type": "markdown",
   "metadata": {},
   "source": [
    "We can also try to find a 6x6:"
   ]
  },
  {
   "cell_type": "code",
   "execution_count": 11,
   "metadata": {},
   "outputs": [
    {
     "data": {
      "text/plain": [
       "111.0"
      ]
     },
     "execution_count": 11,
     "metadata": {},
     "output_type": "execute_result"
    }
   ],
   "source": [
    "magic_6 = MagicBoard(n=6, sim=10**6)\n",
    "magic_6.wanted_value"
   ]
  },
  {
   "cell_type": "code",
   "execution_count": 12,
   "metadata": {},
   "outputs": [
    {
     "name": "stdout",
     "output_type": "stream",
     "text": [
      "FOUND ONE!!!\n",
      "Number of itterations: 52760\n",
      "Time taken: 0.428min\n"
     ]
    },
    {
     "data": {
      "text/plain": [
       "array([[30, 28,  6, 22, 21,  4],\n",
       "       [ 3, 24, 20, 18, 32, 14],\n",
       "       [ 2, 27, 10, 12, 25, 35],\n",
       "       [16, 19, 29, 31,  1, 15],\n",
       "       [34,  8, 13, 11,  9, 36],\n",
       "       [26,  5, 33, 17, 23,  7]])"
      ]
     },
     "execution_count": 12,
     "metadata": {},
     "output_type": "execute_result"
    }
   ],
   "source": [
    "magic_6.find_magic()"
   ]
  },
  {
   "cell_type": "markdown",
   "metadata": {},
   "source": [
    "A 7x7 magic board:"
   ]
  },
  {
   "cell_type": "code",
   "execution_count": 13,
   "metadata": {},
   "outputs": [
    {
     "data": {
      "text/plain": [
       "175.0"
      ]
     },
     "execution_count": 13,
     "metadata": {},
     "output_type": "execute_result"
    }
   ],
   "source": [
    "magic_7 = MagicBoard(n=7, sim=10**7)\n",
    "magic_7.wanted_value"
   ]
  },
  {
   "cell_type": "code",
   "execution_count": 14,
   "metadata": {},
   "outputs": [
    {
     "name": "stdout",
     "output_type": "stream",
     "text": [
      "FOUND ONE!!!\n",
      "Number of itterations: 853253\n",
      "Time taken: 7.2637min\n"
     ]
    },
    {
     "data": {
      "text/plain": [
       "array([[ 4, 27, 24,  2, 36, 39, 43],\n",
       "       [19, 42, 20, 11, 21, 30, 32],\n",
       "       [29, 37, 10, 28,  5, 44, 22],\n",
       "       [13, 15, 47, 34,  3, 23, 40],\n",
       "       [31, 38,  8, 35, 45, 12,  6],\n",
       "       [33,  9, 25, 48, 16, 26, 18],\n",
       "       [46,  7, 41, 17, 49,  1, 14]])"
      ]
     },
     "execution_count": 14,
     "metadata": {},
     "output_type": "execute_result"
    }
   ],
   "source": [
    "magic_7.find_magic()"
   ]
  },
  {
   "cell_type": "markdown",
   "metadata": {},
   "source": [
    "Can also try a 8x8 magic board:"
   ]
  },
  {
   "cell_type": "code",
   "execution_count": 15,
   "metadata": {},
   "outputs": [
    {
     "data": {
      "text/plain": [
       "260.0"
      ]
     },
     "execution_count": 15,
     "metadata": {},
     "output_type": "execute_result"
    }
   ],
   "source": [
    "magic_8 = MagicBoard(n=8, sim=10**7)\n",
    "magic_8.wanted_value"
   ]
  },
  {
   "cell_type": "code",
   "execution_count": 16,
   "metadata": {},
   "outputs": [
    {
     "name": "stdout",
     "output_type": "stream",
     "text": [
      "FOUND ONE!!!\n",
      "Number of itterations: 8883726\n",
      "Time taken: 83.8515min\n"
     ]
    },
    {
     "data": {
      "text/plain": [
       "array([[23, 48, 12, 18, 51, 36, 61, 11],\n",
       "       [17, 27, 14, 37, 30, 38, 41, 56],\n",
       "       [26, 32, 58, 34,  8, 24, 16, 62],\n",
       "       [52,  2, 46, 47,  6, 59, 33, 15],\n",
       "       [ 7, 35,  1, 64, 55, 28, 10, 60],\n",
       "       [44, 57, 45, 13,  3, 19, 50, 29],\n",
       "       [42, 20, 63, 43, 53, 25,  9,  5],\n",
       "       [49, 39, 21,  4, 54, 31, 40, 22]])"
      ]
     },
     "execution_count": 16,
     "metadata": {},
     "output_type": "execute_result"
    }
   ],
   "source": [
    "magic_8.find_magic()"
   ]
  },
  {
   "cell_type": "markdown",
   "metadata": {},
   "source": [
    "As you can see, my solution is not very optimized (very slow), so there is probably easy to make it work better."
   ]
  }
 ],
 "metadata": {
  "kernelspec": {
   "display_name": "Python 3",
   "language": "python",
   "name": "python3"
  },
  "language_info": {
   "codemirror_mode": {
    "name": "ipython",
    "version": 3
   },
   "file_extension": ".py",
   "mimetype": "text/x-python",
   "name": "python",
   "nbconvert_exporter": "python",
   "pygments_lexer": "ipython3",
   "version": "3.8.5"
  }
 },
 "nbformat": 4,
 "nbformat_minor": 4
}
