{
 "cells": [
  {
   "cell_type": "markdown",
   "metadata": {},
   "source": [
    "# Nils exercise 23 - Gamma-normal conjugate inference for the linear regression model\n",
    "\n",
    "We will consentrate on ex 23h), but referense other parts of ex 23 when needed.\n",
    "\n",
    "This is a regression problem.\n",
    "\n",
    "Information about the data:\n",
    "\n",
    "The data are per capita numbers of cigarettes smoked (sold) \n",
    "by 43 states and the District of Columbia in 1960 \n",
    "together with death rates per thouusand population \n",
    "from various forms of cancer.\n",
    "\n",
    "Variable Names:\n",
    "  1. CIG = Number of cigarettes smoked (hds per capita)\n",
    "  2. BLAD = Deaths per 100K population from bladder cancer\n",
    "  3. LUNG = Deathes per 100K population from lung cancer\n",
    "  4. KID = Deaths per 100K population from bladder cancer\n",
    "  5. LEUK = Deaths per 100 K population from leukemi"
   ]
  },
  {
   "cell_type": "code",
   "execution_count": 1,
   "metadata": {},
   "outputs": [
    {
     "data": {
      "text/html": [
       "<div>\n",
       "<style scoped>\n",
       "    .dataframe tbody tr th:only-of-type {\n",
       "        vertical-align: middle;\n",
       "    }\n",
       "\n",
       "    .dataframe tbody tr th {\n",
       "        vertical-align: top;\n",
       "    }\n",
       "\n",
       "    .dataframe thead th {\n",
       "        text-align: right;\n",
       "    }\n",
       "</style>\n",
       "<table border=\"1\" class=\"dataframe\">\n",
       "  <thead>\n",
       "    <tr style=\"text-align: right;\">\n",
       "      <th></th>\n",
       "      <th>CIG</th>\n",
       "      <th>BLAD</th>\n",
       "      <th>LUNG</th>\n",
       "      <th>KID</th>\n",
       "      <th>LEUK</th>\n",
       "    </tr>\n",
       "  </thead>\n",
       "  <tbody>\n",
       "    <tr>\n",
       "      <th>39</th>\n",
       "      <td>21.17</td>\n",
       "      <td>4.04</td>\n",
       "      <td>20.34</td>\n",
       "      <td>2.78</td>\n",
       "      <td>7.48</td>\n",
       "    </tr>\n",
       "    <tr>\n",
       "      <th>40</th>\n",
       "      <td>21.25</td>\n",
       "      <td>5.14</td>\n",
       "      <td>20.55</td>\n",
       "      <td>2.34</td>\n",
       "      <td>6.73</td>\n",
       "    </tr>\n",
       "    <tr>\n",
       "      <th>41</th>\n",
       "      <td>22.86</td>\n",
       "      <td>4.78</td>\n",
       "      <td>15.53</td>\n",
       "      <td>3.28</td>\n",
       "      <td>7.38</td>\n",
       "    </tr>\n",
       "    <tr>\n",
       "      <th>42</th>\n",
       "      <td>28.04</td>\n",
       "      <td>3.20</td>\n",
       "      <td>15.92</td>\n",
       "      <td>2.66</td>\n",
       "      <td>5.78</td>\n",
       "    </tr>\n",
       "    <tr>\n",
       "      <th>43</th>\n",
       "      <td>30.34</td>\n",
       "      <td>3.46</td>\n",
       "      <td>25.88</td>\n",
       "      <td>4.32</td>\n",
       "      <td>4.90</td>\n",
       "    </tr>\n",
       "  </tbody>\n",
       "</table>\n",
       "</div>"
      ],
      "text/plain": [
       "      CIG  BLAD   LUNG   KID  LEUK\n",
       "39  21.17  4.04  20.34  2.78  7.48\n",
       "40  21.25  5.14  20.55  2.34  6.73\n",
       "41  22.86  4.78  15.53  3.28  7.38\n",
       "42  28.04  3.20  15.92  2.66  5.78\n",
       "43  30.34  3.46  25.88  4.32  4.90"
      ]
     },
     "execution_count": 1,
     "metadata": {},
     "output_type": "execute_result"
    }
   ],
   "source": [
    "import pandas as pd\n",
    "with open(\"../data/cigarette_data2\", \"r\") as f:\n",
    "    describe_data = [f.readline() for _ in range(16)]\n",
    "    data = f.readlines(-1)\n",
    "    \n",
    "df = pd.DataFrame([row.replace(\"\\n\", \"\").split(\"\\t\")[1:] for row in data], columns=[\"CIG\", \"BLAD\", \"LUNG\", \"KID\", \"LEUK\"], dtype=float)\n",
    "df.tail()"
   ]
  },
  {
   "cell_type": "code",
   "execution_count": 2,
   "metadata": {},
   "outputs": [
    {
     "data": {
      "image/png": "[encoded data removed]",
      "text/plain": [
       "<Figure size 864x576 with 1 Axes>"
      ]
     },
     "metadata": {
      "needs_background": "light"
     },
     "output_type": "display_data"
    }
   ],
   "source": [
    "import numpy as np\n",
    "import matplotlib.pyplot as plt\n",
    "from sklearn.linear_model import LinearRegression as LR\n",
    "\n",
    "x = df.CIG.values  # NUmber of cigarettes smoked (hds pr capita)\n",
    "y = df.LUNG.values  # Death per 100k population lung cancer\n",
    "\n",
    "reg = LR().fit(x.reshape(-1,1), y)\n",
    "intercept, coef = reg.intercept_, reg.coef_\n",
    "\n",
    "x_val = np.arange(14,50,1)\n",
    "x_fit = [i*coef + intercept for i in x_val]\n",
    "\n",
    "plt.figure(figsize=(12,8))\n",
    "plt.plot(x, y, 'o')\n",
    "plt.plot(x_val, x_fit, 'r--')\n",
    "plt.xlabel(\"# of cigarettes\")\n",
    "plt.ylabel(\"death rate lund cancer\")\n",
    "plt.show()"
   ]
  },
  {
   "cell_type": "markdown",
   "metadata": {},
   "source": [
    "This is a linear regression model:\n",
    "\n",
    "$$y = X\\beta + \\epsilon \\qquad \\text{where }\\epsilon \\sim N(0, \\sigma^2 I_n)$$\n",
    "\n",
    "where $I_n$ is the identity matrix. Our model will look like this:\n",
    "\n",
    "$$y_i = x_{i,0}\\beta_0 + x_{i,1}\\beta_1 = intercept + x_{i,1}coef$$\n",
    "\n",
    "The first part, $x_{i,0}$ is our \"bias\", iow only contains 1's. This is for the interception part of our model (where we want our value to be when x=0). The second part is what all our other x points should be, iow how much should our model increas/decrease with.\n",
    "\n",
    "This will change the setup from Nils ex 22 a bit, but it is similar (we go from single points/scalars into the world of matrix calculations).\n",
    "\n",
    "Our likelihood function will now look like this:\n",
    "\n",
    "$$L_n(\\beta, \\sigma) = \\sigma^{-n} exp\\left[-\\frac12 \\frac{1}{\\sigma^2}\\big(Q_0 + n(\\beta - \\hat{\\beta})^t M_n (\\beta - \\hat{\\beta}) \\big) \\right]$$\n",
    "\n",
    "Where \n",
    "\n",
    "$$M_n = \\frac1n X^tX = N^{-1}\\sum_{i=1}^n x_i x_i^t \\quad \\text{ and } \\quad \\hat{\\beta} = (X^tX)^{-1}X^ty = M_n^{-1}n^{-1} \\sum_{i=1}^nx_i y_i$$\n",
    "\n",
    "and \n",
    "\n",
    "$$Q(\\beta) = \\|y - X\\beta \\|^2 = Q_0 + n(\\beta - \\hat{\\beta})^t M_n (\\beta - \\hat{\\beta})$$\n",
    "\n",
    "\n",
    "Note that $Q_0 = \\sum_{i=1}^n (y_i - x_i^t \\hat{\\beta})^2$, which is the __minimum value__ of $Q$ over all $\\beta$. Also note that $\\hat{\\beta}$ is the classical least squartes estimator (and the ML, aka Maximum Likelihood, estimator), that we found above using Scikit-Learn's linear regression method.\n",
    "\n",
    "Our prior looks like this:\n",
    "\n",
    "$$(\\lambda, \\beta) \\sim GN_k (a,b,\\beta_0, M_0)$$\n",
    "\n",
    "with:\n",
    "\n",
    "$$\\lambda = \\frac{1}{\\sigma^2} \\sim Gamma(a,b) \\quad \\text{ and } \\quad \\beta | \\sigma N_k(\\beta_0, \\sigma M_0^{-1})$$\n",
    "\n",
    "From our prior $GN_k$ model and likelihood function, we'll get a posterior:\n",
    "\n",
    "$$(\\lambda, \\beta)|data \\sim GN_k\\left(a+\\frac12, b+ \\frac12 Q_0 + \\frac12(\\hat{\\beta}-\\beta_0)^t D_n(\\hat{\\beta - \\beta_0}), \\beta^*, M_0 + nM_n\\right)$$\n",
    "\n",
    "where \n",
    "$$\\beta^* = (M_0 + nM_n)^{-1}(M_0\\beta_0 + nM_n\\hat{\\beta}) \\quad \\text{ and } \\quad D_n = M_0(M_0 + nM_n)^{-1}nM_n$$\n",
    "\n",
    "This is very simular to what we found in Nils exercise 22, but now we have the \"Matrix variant\"."
   ]
  },
  {
   "cell_type": "markdown",
   "metadata": {},
   "source": [
    "__NOTE:__ when we go from working with scalars to working with matrices/vectors, we'll go from\n",
    "\n",
    "* $\\mu \\rightarrow \\beta$ \n",
    "* $v_0 \\rightarrow M_0$, but now it is a matrix instead of a scalar. (may not be exactly the same...)\n",
    "* $d_n \\rightarrow D_n$\n",
    "\n",
    "Also note that $a$ and $b$ is found using the same technique as in Nils exercise 22, we find it by using non-linear minimization.\n",
    "\n",
    "Now that we have establised some good formulas, lets look at the task in Nils exercise 23h):"
   ]
  },
  {
   "cell_type": "markdown",
   "metadata": {},
   "source": [
    "We are given a regression model that looks like this:\n",
    "\n",
    "$$y_i = \\alpha + \\beta x_i + \\epsilon_i \\quad \\text{for } i = 1, ..., 44$$\n",
    "\n",
    "Where $\\epsilon_i \\sim N(0, \\sigma^2)$ and iid. We want point estimates + 95% credibility interval of the three parameters $\\alpha, \\beta, \\sigma$, the probability that $y \\geq 25.0$ for a country with cigarette consumption x=35.0, AND the lung cancer death rates $y_{45}$ and $y_{46}$, per 100,000 inhabians, for coutries with cigarette consumption rates $x_{45} = 10.0$ (low) and $x_{46} = 50.0$ (high).\n",
    "\n",
    "\n",
    "First, we are given the prior:\n",
    "\n",
    "$$\\frac{1}{\\sigma^2} \\sim Gamma(a,b)$$\n",
    "\n",
    "where 0.10 and 0.90 quantiles for $\\sigma$ equal to 1.0 and 5.0.\n",
    "\n",
    "$\\alpha$ and $\\beta$ is independent normals:\n",
    "\n",
    "$$\\alpha \\sim N(15.0, (2.0\\sigma)^2) \\qquad \\text{ and } \\qquad \\beta \\sim N(0.0, (2.0\\sigma)^2)$$\n",
    "\n",
    "Where $\\sigma$ is given.\n",
    "\n",
    "First we find our $a_0$ and $b_0$ using minimazation:"
   ]
  },
  {
   "cell_type": "code",
   "execution_count": 3,
   "metadata": {},
   "outputs": [
    {
     "name": "stdout",
     "output_type": "stream",
     "text": [
      "0.939483462409857 2.1967257952160177\n",
      "0.09999926532259573\n",
      "0.8999998649795682\n"
     ]
    }
   ],
   "source": [
    "import scipy.stats as stats\n",
    "import scipy.optimize as opti\n",
    "\n",
    "sigma_low = 1.0\n",
    "sigma_high = 5.0\n",
    "\n",
    "def Q(params):\n",
    "    '''\n",
    "    This is defined in Nils 23 (I think)\n",
    "    '''\n",
    "    a = params[0]\n",
    "    b = params[1]\n",
    "    \n",
    "    upper = 1 - stats.gamma.cdf(1/sigma_high**2, a, scale=1/b) - 0.90\n",
    "    lower = 1 - stats.gamma.cdf(1/sigma_low**2, a, scale=1/b) - 0.10\n",
    "    \n",
    "    return upper**2 + lower**2\n",
    "\n",
    "minimize = opti.minimize(Q, [3.0, 4.0])\n",
    "\n",
    "a0, b0 = minimize[\"x\"]\n",
    "\n",
    "print(a0, b0)\n",
    "# check that we get the right probabilities\n",
    "print(1 - stats.gamma.cdf(x=1/(sigma_low**2), a=a0, scale=1/b0))  # should be 0.1\n",
    "print(1 - stats.gamma.cdf(x=1/(sigma_high**2), a=a0, scale=1/b0))  # should be 0.9"
   ]
  },
  {
   "cell_type": "markdown",
   "metadata": {},
   "source": [
    "Both high and low have now a $a_0$ and $b_0$ that gives us gamma prob of 0.10 and 0.90, respectfully.\n",
    "\n",
    "As we can see from our two normal formulas:\n",
    "\n",
    "$$\\alpha \\sim N(15.0, (2.0\\sigma)^2) \\qquad \\text{ and } \\qquad \\beta \\sim N(0.0, (2.0\\sigma)^2)$$\n",
    "\n",
    "we have 2 in front of $\\sigma$. This is our $M_0^{-1}$, which makes $M_0^{-1} = (2^{-1})^2 = \\frac{1}{2^2}$. \n",
    "\n",
    "Our __X__ is a $44 \\times 2$ matrix, that looks like this:\n",
    "\n",
    "\\begin{align*}\n",
    " X = \n",
    " \\begin{bmatrix}\n",
    " 1 & x_1 \\\\\n",
    " 1 & x_2 \\\\\n",
    " \\vdots & \\vdots \\\\\n",
    " 1 & x_{44}\n",
    " \\end{bmatrix}\n",
    "\\end{align*}\n",
    "\n",
    "Where the first column is for our bias (or $\\alpha$) and the second column is for our observations (our $\\beta$). This can be used to calcualte:\n",
    "\n",
    "$$M_n = \\frac{1}{n} X^TX$$\n",
    "\n",
    "The last thing we need to update our parameters is $D_n$. This is done with the formula:\n",
    "\n",
    "$$D_n = M_0(M_0 + nM_n)^{-1}nM_n$$\n",
    "\n",
    "We will now estabilish our prior mean with our ML (maximum likelihood) and prior precisions:"
   ]
  },
  {
   "cell_type": "code",
   "execution_count": 4,
   "metadata": {},
   "outputs": [],
   "source": [
    "n = len(y)\n",
    "Q0 = sum((y - (intercept + coef*x))**2)  # same as in Nils ex 22, used in b update\n",
    "\n",
    "# prior mean (given in ex 23h)\n",
    "beta0 = np.array([15.0, 0.0]).reshape(-1,1)  # prior mean\n",
    "ML = np.array([intercept, coef[0]]).reshape(-1,1)  # aka beta hat\n",
    "\n",
    "c0 = 1/2.0**2  # I think this represents the same thing as v did in Nils ex 22\n",
    "M0 = c0 * np.identity(2)\n",
    "\n",
    "ones = np.ones(n)\n",
    "x_mat = np.transpose(np.array([ones, x]))  # first part is for alpha and second part is for beta (bias and observation)\n",
    "Mn = 1/n * np.matmul(np.transpose(x_mat), x_mat)\n",
    "Dn = np.matmul(np.matmul(M0, np.linalg.inv(M0 + n*Mn)), n*Mn)"
   ]
  },
  {
   "cell_type": "markdown",
   "metadata": {},
   "source": [
    "__NOTE__ that our $\\hat{\\beta}$ is unbiased with covariance matrix equal to $\\sigma^2 (X^tX)^{-1} = \\frac{\\sigma^2}{n}M_n^{-1}$.\n",
    "\n",
    "Posterior model:\n",
    "\n",
    "$$(\\lambda, \\beta)|data \\sim GN_k\\left(a+\\frac12, b+ \\frac12 Q_0 + \\frac12(\\hat{\\beta}-\\beta_0)^t D_n(\\hat{\\beta - \\beta_0}), \\beta^*, M_0 + nM_n\\right)$$\n",
    "\n",
    "where\n",
    "\n",
    "$$\\beta^* = (M_0 + nM_n)^{-1}(M_0\\beta_0 + nM_n\\hat{\\beta})$$\n",
    "\n",
    "Now we got everything we need to update our parameters, and go from a prior to a posterior model."
   ]
  },
  {
   "cell_type": "code",
   "execution_count": 5,
   "metadata": {},
   "outputs": [
    {
     "name": "stdout",
     "output_type": "stream",
     "text": [
      "Covariance matrix posterior:\n",
      "[[ 0.43443585 -0.01662421]\n",
      " [-0.01662421  0.00067105]]\n",
      "\n",
      "\n",
      "Prior:\n",
      "GN(0.939483462409857, 2.1967257952160177, array([[15.],\n",
      "       [ 0.]]), array([[0.25, 0.  ],\n",
      "       [0.  , 0.25]]))\n",
      "Posterior:\n",
      "GN((22.939483462409857, 207.7476791877081, array([[7.40013644],\n",
      "       [0.49354506]]), array([[ 0.43443585, -0.01662421],\n",
      "       [-0.01662421,  0.00067105]])))\n"
     ]
    }
   ],
   "source": [
    "a_new = a0 + 0.5*n\n",
    "b_new = b0 + 0.5*Q0 + 0.5*np.matmul(np.transpose(ML-beta0), np.matmul(Dn, (ML-beta0)))\n",
    "beta_star = np.matmul(np.linalg.inv(M0 + n*Mn), (np.matmul(M0, beta0) + n*np.matmul(Mn,ML)))\n",
    "V = np.linalg.inv(M0 + n*Mn) # I think that this is the covariance matrix\n",
    "\n",
    "sigma1 = np.sqrt(V[0,0])  \n",
    "sigma2 = np.sqrt(V[1,1])\n",
    "\n",
    "corr = V[0,1]/(sigma1*sigma2)\n",
    "\n",
    "print(f\"Covariance matrix posterior:\\n{V}\\n\\n\")\n",
    "print(f\"Prior:\\nGN{a0, b0, beta0, M0}\")\n",
    "print(f\"Posterior:\\nGN({a_new, b_new[0][0], beta_star, V})\")"
   ]
  },
  {
   "cell_type": "code",
   "execution_count": 6,
   "metadata": {},
   "outputs": [
    {
     "name": "stdout",
     "output_type": "stream",
     "text": [
      "Correlation between our sigmas after update:\n",
      "-0.9736432158845254\n"
     ]
    }
   ],
   "source": [
    "print(f\"Correlation between our sigmas after update:\\n{corr}\")"
   ]
  },
  {
   "cell_type": "markdown",
   "metadata": {},
   "source": [
    "The correlation is close to -1 (meaning almost perfect correlation). Now that we have established our posterior distribution, we can now start to simulate.\n",
    "\n",
    "First we're gonna simulate to find $\\sigma$. We know $\\sigma$ is defined as:\n",
    "\n",
    "$$\\lambda = \\frac{1}{\\sigma^2} \\sim Gamma(a,b)$$\n",
    "\n",
    "This means $\\sigma$ is:\n",
    "\n",
    "$$\\sigma \\sim \\frac{1}{\\sqrt{Gamma(a,b)}}$$"
   ]
  },
  {
   "cell_type": "code",
   "execution_count": 8,
   "metadata": {},
   "outputs": [
    {
     "name": "stdout",
     "output_type": "stream",
     "text": [
      "Point estimate sigma: 3.060208102296824\n",
      "95% credibility interval:\n",
      "[2.50389009 3.7784968 ] \n"
     ]
    }
   ],
   "source": [
    "sim = 10**5\n",
    "sigma_sim = 1/np.sqrt(stats.gamma.rvs(a=a_new, scale=1/b_new, size=sim))\n",
    "\n",
    "sigma_estimate = np.mean(sigma_sim)\n",
    "print(f\"Point estimate sigma: {sigma_estimate}\\n95% credibility interval:\\n{np.quantile(sigma_sim, [0.025, 0.975])} \")"
   ]
  },
  {
   "cell_type": "markdown",
   "metadata": {},
   "source": [
    "Now that we have gotten an estimate for $\\sigma$, we can now estimate $\\alpha$ and $\\beta$. Recall that\n",
    "\n",
    "This is done by using our updated mean vector, $\\beta^*$, and create a randomly distributed numbers, based on the equation:\n",
    "\n",
    "$$\\beta | \\sigma \\sim N(\\beta^*, \\sigma^2 (M_0 + nM_n)^{-1})$$\n",
    "\n",
    "Here refers to all $\\beta$ in the linear regression model. This will give two normal distibutions, one for $\\alpha$ and one for $\\beta$:\n",
    "\n",
    "$$\\alpha \\sim N(\\beta_0^*, \\sigma^2 (M_0 + nM_n)_{0,0}^{-1}) \\quad \\text{ and } \\quad \\beta \\sim N(\\beta_1^*, \\sigma^2 (M_0 + nM_n)_{1,1}^{-1})$$"
   ]
  },
  {
   "cell_type": "code",
   "execution_count": 9,
   "metadata": {},
   "outputs": [
    {
     "name": "stdout",
     "output_type": "stream",
     "text": [
      "Point estimate alpha: 7.389120913471653\n",
      "95% credibility interval:\n",
      "[ 3.40355856 11.38588386]\n",
      "\n",
      "Point estimate beta: 0.4940206093528217\n",
      "95% credibility interval:\n",
      "[0.33741607 0.65065296] \n"
     ]
    }
   ],
   "source": [
    "rand_norm_alpha = stats.norm.rvs(size=sim)\n",
    "rand_norm_beta = stats.norm.rvs(size=sim)\n",
    "alpha_sim = beta_star[0] + np.sqrt(V[0,0])*sigma_sim*rand_norm_alpha#(corr*rand_norm_beta + np.sqrt(1-corr**2)*rand_norm_alpha)\n",
    "beta_sim = beta_star[1] + np.sqrt(V[1,1])*sigma_sim*(corr*rand_norm_alpha + np.sqrt(1-corr**2)*rand_norm_beta)\n",
    "\n",
    "alpha_estimate = np.mean(alpha_sim)\n",
    "beta_estimate = np.mean(beta_sim)\n",
    "\n",
    "print(f\"Point estimate alpha: {alpha_estimate}\\n95% credibility interval:\\n{np.quantile(alpha_sim, [0.025, 0.975])}\\n\")\n",
    "print(f\"Point estimate beta: {beta_estimate}\\n95% credibility interval:\\n{np.quantile(beta_sim, [0.025, 0.975])} \")"
   ]
  },
  {
   "cell_type": "markdown",
   "metadata": {},
   "source": [
    "Now that we have gotten the point estimates and credibility intervals for $\\sigma, \\alpha, \\beta$, lets do the same thing with \n",
    "\n",
    "$$Pr(y \\geq 25.0 | x=35.0)$$\n",
    "\n",
    "iow:\n",
    "\n",
    "$$\\gamma = Pr(y \\geq 25.0 | x=35.0) = 1 - Pr\\left(z \\leq \\frac{y_0 - (\\alpha + \\beta \\cdot x_0)}{\\sigma}\\right)$$"
   ]
  },
  {
   "cell_type": "code",
   "execution_count": 10,
   "metadata": {},
   "outputs": [
    {
     "name": "stdout",
     "output_type": "stream",
     "text": [
      "Point estimat gamma: 0.45971231210042296\n",
      "95% credibility interval: [0.24223489 0.68924252]\n"
     ]
    }
   ],
   "source": [
    "x0 = 35\n",
    "y0 = 25\n",
    "\n",
    "gamma_sim = 1 - stats.norm.cdf((y0 - (alpha_sim + beta_sim*x0))/sigma_sim)\n",
    "print(f\"Point estimat gamma: {np.mean(gamma_sim)}\")\n",
    "print(f\"95% credibility interval: {np.quantile(gamma_sim, [0.025, 0.975])}\")"
   ]
  },
  {
   "cell_type": "markdown",
   "metadata": {},
   "source": [
    "What about future observations $y_{45}$ and $y_{46}$!? What will be their expected death rates given that their cigarette consumptions is $x_{45} = 10.0$ (low) and $x_{46} = 50.0$ (high)?\n",
    "\n",
    "Lets have a look, we use our simulated $\\alpha, \\beta$ and $\\sigma$ to simulate our predictions:"
   ]
  },
  {
   "cell_type": "code",
   "execution_count": 11,
   "metadata": {},
   "outputs": [
    {
     "name": "stdout",
     "output_type": "stream",
     "text": [
      "Expected lung cancer death rates when consumption is low (10.0): 12.32113\n",
      "95% credibility interval lung cancer death rates when consumption is low (10.0):\n",
      "[ 5.78008173 18.88680166]\n",
      "\n",
      "Expected lung cancer death rates when consumption is high (50.0): 32.08778\n",
      "95% credibility interval lung cancer death rates when consumption is high (10.0):\n",
      "[24.80882392 39.37024699]\n"
     ]
    }
   ],
   "source": [
    "x45 = 10.0 # a low value of cigarette consumption\n",
    "y45 = alpha_sim + beta_sim*x45 + sigma_sim*stats.norm.rvs(size=sim)\n",
    "\n",
    "x46 = 50.0 # a high value of cigarette consumption\n",
    "y46 = alpha_sim + beta_sim*x46 + sigma_sim*stats.norm.rvs(size=sim)\n",
    "\n",
    "print(f\"Expected lung cancer death rates when consumption is low (10.0): {round(np.mean(y45), 5)}\")\n",
    "print(f\"95% credibility interval lung cancer death rates when consumption is low (10.0):\\n{np.quantile(y45, [0.025, 0.975])}\\n\")\n",
    "\n",
    "print(f\"Expected lung cancer death rates when consumption is high (50.0): {round(np.mean(y46), 5)}\")\n",
    "print(f\"95% credibility interval lung cancer death rates when consumption is high (10.0):\\n{np.quantile(y46, [0.025, 0.975])}\")\n"
   ]
  },
  {
   "cell_type": "markdown",
   "metadata": {},
   "source": [
    "___\n",
    "\n",
    "__NOTE:__ Still missing the last two exercises in Nils exeercise 23h), need to do later if time."
   ]
  },
  {
   "cell_type": "code",
   "execution_count": null,
   "metadata": {},
   "outputs": [],
   "source": []
  }
 ],
 "metadata": {
  "kernelspec": {
   "display_name": "Python 3",
   "language": "python",
   "name": "python3"
  },
  "language_info": {
   "codemirror_mode": {
    "name": "ipython",
    "version": 3
   },
   "file_extension": ".py",
   "mimetype": "text/x-python",
   "name": "python",
   "nbconvert_exporter": "python",
   "pygments_lexer": "ipython3",
   "version": "3.8.5"
  }
 },
 "nbformat": 4,
 "nbformat_minor": 4
}
