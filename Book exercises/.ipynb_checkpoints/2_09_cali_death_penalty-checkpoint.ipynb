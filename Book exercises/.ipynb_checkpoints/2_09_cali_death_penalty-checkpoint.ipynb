{
 "cells": [
  {
   "cell_type": "markdown",
   "metadata": {},
   "source": [
    "# Californians and their support to the death penalty\n",
    "\n",
    "Suppose our prior idstribution for $\\theta$, the proportion of Californians who support the death penalty, is beta with mean 0.6 and standard devation 0.3.\n",
    "\n",
    "## (a)\n",
    "\n",
    "_Determine the parameters a and b of our prior distribution._\n",
    "\n",
    "To determine a and b we can solve an equation with two unknowns:\n",
    "\n",
    "\\begin{align*}\n",
    "\\begin{matrix}\n",
    "E(\\theta) = \\frac{a}{a+b} && \\\\\n",
    "0.6 = \\frac{a}{a+b} && \\\\\n",
    "a = \\frac64 b && SD(\\theta) = \\sqrt{\\frac{E(\\theta))(1-E(\\theta))}{a + b + 1}} \\\\\n",
    "&& 0.09 = \\frac{0.6(1-0.6)}{a + b + 1} \\\\\n",
    "&& 0.09 = \\frac{6/25}{(10/4)b + 1} \\\\\n",
    "&& \\frac{9}{40}b + 0.09 = \\frac{6}{25} \\\\\n",
    "&& \\frac{9}{40}b = \\frac{3}{20} \\\\\n",
    "&& b = \\frac23 \\\\\n",
    "a = \\frac32 \\cdot \\frac23 &&  \\\\\n",
    "a = 1 && b=\\frac23\n",
    "\\end{matrix}\n",
    "\\end{align*}\n",
    "\n",
    "Thus our prior is: \n",
    "\n",
    "$$p(\\theta) = Beta(1, 2/3)$$\n",
    "\n",
    "Now, we can sketch the prior density function:"
   ]
  },
  {
   "cell_type": "code",
   "execution_count": 2,
   "metadata": {},
   "outputs": [
    {
     "data": {
      "image/png": "[encoded data removed]",
      "text/plain": [
       "<Figure size 432x288 with 1 Axes>"
      ]
     },
     "metadata": {
      "needs_background": "light"
     },
     "output_type": "display_data"
    }
   ],
   "source": [
    "import numpy as np\n",
    "import scipy.stats as stats\n",
    "import matplotlib.pyplot as plt\n",
    "\n",
    "theta = np.arange(0, 1.001, 10**-3)\n",
    "a, b = 1, 2/3\n",
    "dens = stats.beta.pdf(theta, a,b)\n",
    "plt.plot(theta, dens)\n",
    "plt.show()"
   ]
  },
  {
   "cell_type": "markdown",
   "metadata": {},
   "source": [
    "## (b)"
   ]
  }
 ],
 "metadata": {
  "kernelspec": {
   "display_name": "Python 3",
   "language": "python",
   "name": "python3"
  },
  "language_info": {
   "codemirror_mode": {
    "name": "ipython",
    "version": 3
   },
   "file_extension": ".py",
   "mimetype": "text/x-python",
   "name": "python",
   "nbconvert_exporter": "python",
   "pygments_lexer": "ipython3",
   "version": "3.8.5"
  }
 },
 "nbformat": 4,
 "nbformat_minor": 4
}
