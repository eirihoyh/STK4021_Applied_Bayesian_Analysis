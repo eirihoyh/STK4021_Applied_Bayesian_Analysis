{
 "cells": [
  {
   "cell_type": "markdown",
   "metadata": {},
   "source": [
    "# What is the probability for \"krone\"?\n",
    "\n",
    "_A modern reader of Bayes's original publication can ask and check some follow-up points. Here's one. Imagine 10^4 people getting their 10^4 coins from the local coin factory, which produces coins with theta = Pr(krone) following a uniform distribution. These 10^4 people go home and throw their coins n = 50 times, recording y = the number of krone. Simulate this in your computer, check the 10^4 vaues of y. Supply the math to explain what you find._\n",
    "\n",
    "We have prior\n",
    "\n",
    "$$\\theta \\sim Unif(0,1)$$\n",
    "\n",
    "model/likelihood\n",
    "\n",
    "$$y|\\theta \\sim Bin(n,\\theta), \\quad n=50$$\n",
    "\n",
    "and we want to find $f_{marg}(y)$. We can do it by using math:\n",
    "\n",
    "\\begin{align*}\n",
    "f_{marg}(y) &= \\int_0^1 \\binom{n}{y} \\theta^y(1-\\theta)^{n-y} \\cdot 1 d\\theta \\\\\n",
    "&= \\frac{n!}{y!(n-y)!} \\frac{y!(n-y)!}{(n+1)(n!)} \\\\\n",
    "&= \\frac{1}{n+1}\n",
    "\\end{align*}\n",
    "\n",
    "and we can find it by simulation:"
   ]
  },
  {
   "cell_type": "code",
   "execution_count": 5,
   "metadata": {},
   "outputs": [
    {
     "data": {
      "image/png": "[encoded data removed]",
      "text/plain": [
       "<Figure size 432x288 with 1 Axes>"
      ]
     },
     "metadata": {
      "needs_background": "light"
     },
     "output_type": "display_data"
    }
   ],
   "source": [
    "import scipy.stats as stats\n",
    "import matplotlib.pyplot as plt\n",
    "n=50\n",
    "theta_sim = stats.uniform.rvs(size=10**4)\n",
    "y_sim = stats.binom.rvs(n, theta_sim)\n",
    "plt.hist(y_sim, bins=51)\n",
    "plt.show()"
   ]
  },
  {
   "cell_type": "markdown",
   "metadata": {},
   "source": [
    "From this we can see that there is equal probability to cast anywhere from 0 to 50 \"krone\" in 50 cast. We can also see from the math that we have a equal probability, $\\frac{1}{50+1}$, to get any given number of \"krone\" our of 50 casts."
   ]
  }
 ],
 "metadata": {
  "kernelspec": {
   "display_name": "Python 3",
   "language": "python",
   "name": "python3"
  },
  "language_info": {
   "codemirror_mode": {
    "name": "ipython",
    "version": 3
   },
   "file_extension": ".py",
   "mimetype": "text/x-python",
   "name": "python",
   "nbconvert_exporter": "python",
   "pygments_lexer": "ipython3",
   "version": "3.8.5"
  }
 },
 "nbformat": 4,
 "nbformat_minor": 4
}
