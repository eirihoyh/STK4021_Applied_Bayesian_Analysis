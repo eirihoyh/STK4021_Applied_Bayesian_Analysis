{
 "cells": [
  {
   "cell_type": "markdown",
   "metadata": {},
   "source": [
    "# Prior to poserior updating with Poisson data"
   ]
  },
  {
   "cell_type": "markdown",
   "metadata": {},
   "source": [
    "We are  given that $Z \\sim Gamma(a,b)$, that is \n",
    "\n",
    "$$g(z) = \\frac{b^a}{\\Gamma(a)} z^{a-1} exp(-bz) \\qquad 0<z<\\infty$$\n",
    "\n",
    "## (a) \n",
    "\n",
    "Find expected value and variance for the gamma distribution.\n",
    "\n",
    "\\begin{align*}\n",
    "E(z) &= \\int_{0}^{\\infty} z \\frac{b^a}{\\Gamma(a)} z^{a-1} exp(-bz) dz \\\\\n",
    "&= \\frac{b^a}{\\Gamma(a)} \\int_{0}^{\\infty} z^a exp(-bz) dz, \\quad c = bz \\\\\n",
    "&= \\frac{b^a}{\\Gamma(a)} \\int_{0}^{\\infty} \\left(\\frac{c}{b}\\right)^a exp(-c) \\frac{dc}{b} \\\\\n",
    "&= \\frac{b^a}{\\Gamma(a)} \\frac{1}{b^{a+1}} \\int_{0}^{\\infty} c^{a+1-1} exp(-c) dc, \\quad \\text{gamma function} \\\\\n",
    "&= \\frac{\\Gamma(a+1)}{b\\Gamma(a)} \\\\\n",
    "&= \\frac{a\\Gamma(a)}{b\\Gamma(a)} \\\\\n",
    "&= \\frac{a}{b}\n",
    "\\end{align*}\n",
    "\n",
    "\\begin{align*}\n",
    "Var(z) &= E(z^2) - (E(z))^2 \\\\\n",
    "&= \\int_{0}^{\\infty} z^2 \\frac{b^a}{\\Gamma(a)} z^{a-1} exp(-bz) dz - \\left(\\frac{a}{b}\\right)^2 \\\\\n",
    "&= \\frac{b^a}{\\Gamma(a)} \\int_{0}^{\\infty} \\left(\\frac{c}{b}\\right)^{a+1} exp(-c) \\frac{dc}{b} - \\frac{a^2}{b^2} \\\\\n",
    "&= \\frac{b^a}{\\Gamma(a)} \\frac{1}{b^{a+2}} \\int_{0}^{\\infty} c^{a+2-1} exp(-c) dc - \\frac{a^2}{b^2} \\\\\n",
    "&= \\frac{\\Gamma(a+2)}{b^2\\Gamma(a)} - \\frac{a^2}{b^2} \\\\\n",
    "&= \\frac{(a+1)a - a^2}{b^2} \\\\\n",
    "&= \\frac{a}{b^2} \\\\\n",
    "&= \\frac{E(Z)}{b}\n",
    "\\end{align*}"
   ]
  },
  {
   "cell_type": "markdown",
   "metadata": {},
   "source": [
    "## (b)\n",
    "\n",
    "Now suppose we have the model/likelihood \n",
    "\n",
    "$$y|\\theta \\sim Poisson(\\theta)$$\n",
    "\n",
    "and prior distribution\n",
    "\n",
    "$$\\theta \\sim Gamma(a,b)$$\n",
    "\n",
    "Show that our posterior distribution is \n",
    "\n",
    "$$\\theta | y \\sim Gamma(a+y, b+1)$$.\n",
    "\n",
    "To solve this problem, I will use Bayes Theorem:\n",
    "\n",
    "$$\\pi(\\theta | y) = \\frac{f(y,\\theta)}{f_{marg}(y)} = \\frac{p(\\theta)f(y|\\theta)}{f_{marg}(y)}$$\n",
    "\n",
    "The different functions in the formula is:\n",
    "\n",
    "* $p(\\theta)$: Our prior knowledge. What we know (or rather think we know) before we get any observations\n",
    "* $f(y|\\theta)$: Our model/likelihood, here with only one observation (only one y). This is how we think our data is distributed.\n",
    "* $f_{marg}(y)$: Our marginal distribution. The marginal distribution represent all possible outcomes. \n",
    "    - $f_{marg}(y) = \\int_\\theta p(\\theta) f(y|\\theta) d\\theta$ (here, our integral would be from 0 to $\\infty$)\n",
    "    \n",
    "Lets find the posterior distributions:\n",
    "\n",
    "\\begin{align*}\n",
    "\\pi(\\theta|y) &= \\frac{1}{f_{marg}(y)} p(\\theta)f(y|\\theta) \\\\\n",
    "&= \\frac{1}{f_{marg}(y)} \\cdot \\frac{b^a}{\\Gamma(a)} \\theta^{a-1} exp(-b\\theta) \\cdot \\frac{1}{y!} \\theta^y exp(-\\theta) \\\\\n",
    "&\\propto \\theta^{a+y-1} exp(-\\theta(b+1))\n",
    "\\end{align*}\n",
    "\n",
    "This resembles a Gamma distribution, thus our posterior will be:\n",
    "\n",
    "$$\\theta|y \\sim Gamma(a+y, b+1)$$\n",
    "\n",
    "Notice that we did not use $f_marg(y)$ to find the posterior distribution. This is because our marginal is considered as a constant. Same thing applies to $\\frac{b^a}{\\Gamma(a)}$ and $\\frac{1}{y!}$. We do not need to use these constants to find the unnormalized version of the posterior. We can also calcualte the normalized posterior distribution, but we would just end up with $\\theta|y \\sim Gamma(a+y, b+1)$. Often we do not need to find the constants because we can just find it by simulation (e.g. MCMC which we'll come later)."
   ]
  },
  {
   "cell_type": "code",
   "execution_count": null,
   "metadata": {},
   "outputs": [],
   "source": []
  }
 ],
 "metadata": {
  "kernelspec": {
   "display_name": "Python 3",
   "language": "python",
   "name": "python3"
  },
  "language_info": {
   "codemirror_mode": {
    "name": "ipython",
    "version": 3
   },
   "file_extension": ".py",
   "mimetype": "text/x-python",
   "name": "python",
   "nbconvert_exporter": "python",
   "pygments_lexer": "ipython3",
   "version": "3.8.5"
  }
 },
 "nbformat": 4,
 "nbformat_minor": 4
}
