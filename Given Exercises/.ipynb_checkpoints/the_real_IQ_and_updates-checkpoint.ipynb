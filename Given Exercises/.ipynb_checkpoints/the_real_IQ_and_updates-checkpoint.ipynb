{
 "cells": [
  {
   "cell_type": "markdown",
   "metadata": {},
   "source": [
    "# How to update the \"real\" IQ, based on samples!\n",
    "\n",
    "_Suppose theta is the \"real\" IQ score, and that the distribution of these, for a certain population (like all Norwegians above 18) is a N(100, 15^2). Suppose then that a certain IQ test is such that for an individual with IQ theta, the test gives y, which is N(theta, 5^2). If y is taken from a randomly sampled person, what is the marginal distribution of y? Assume the test gives y = 117, for Ola N. Ordmann. What is the distribution of his theta, given this information? Give a 90 percent credibility interval for his theta._\n",
    "\n",
    "Prior distribution:\n",
    "\n",
    "$$\\theta \\sim N(\\mu_0, \\sigma_0^2)$$\n",
    "\n",
    "where $\\mu_0 = 100$ and $\\sigma_0 = 15$. The model:\n",
    "\n",
    "$$y|\\theta \\sim N(\\theta, \\tau^2)$$\n",
    "\n",
    "where $\\theta = \\mu$ and $\\tau = 5$.\n",
    "\n",
    "First we need to find the marginal distribution. This is fairly easly done by using some useful results from probability theory:\n",
    "\n",
    "\\begin{align*}\n",
    "\\begin{matrix}\n",
    "E(y) = E(E(y|\\theta)) && Var(y) = E(Var(y|\\theta)) + Var(E(y|\\theta)) \\\\\n",
    "E(y) = E(\\theta) && Var(y) = E(\\tau^2) + Var(\\theta)\\\\\n",
    "E(y) = \\mu_0 && Var(y) = \\tau^2 + \\sigma_0^2\n",
    "\\end{matrix}\n",
    "\\end{align*}\n",
    "\n",
    "Since our marginal is constructed from two normal distributions, our marginal will also be marginal. Thus, we get that\n",
    "\n",
    "$$y \\sim N(\\mu_0, \\tau^2 + \\sigma_0^2)$$\n",
    "\n",
    "We can also find the covariance between $\\theta$ and $y$:\n",
    "\n",
    "\\begin{align*}\n",
    "cov(y, \\theta) &= E(\\theta y) - E(\\theta)E(y) \\\\\n",
    "&= E(E(\\theta y | \\theta)) - E(\\theta)E(\\theta) \\\\\n",
    "&= E(\\theta^2) - (E(\\theta))^2 \\\\\n",
    "&= Var(\\theta) \\\\\n",
    "&= \\sigma_0^2\n",
    "\\end{align*}\n",
    "\n",
    "We can use this information to construct a binormal distribution:\n",
    "\n",
    "$$\\binom{\\theta}{y} \\sim N_2 \\left(\\binom{\\mu_0}{\\mu_0}, \\binom{\\sigma_0^2, \\sigma_0^2}{\\sigma_0^2, \\tau^2 + \\sigma_0^2} \\right)$$\n",
    "\n",
    "From this we can find the posterior distribution $\\theta|y$. This is found by using the following formula:\n",
    "\n",
    "$$\\theta|y \\sim N(E(\\theta) + \\Sigma_{12}\\Sigma_{22}^{-1} (y - E(E(y|\\theta)), \\Sigma_{11} - \\Sigma_{12}\\Sigma_{22}^{-1}\\Sigma_{21})$$\n",
    "\n",
    "This yields:\n",
    "\n",
    "\\begin{align*}\n",
    "\\theta|y &\\sim N(\\mu_0 + \\sigma_0^2(\\sigma_0^2 + \\tau^2)^{-1} (y - \\mu_0), \\sigma_0^2 - \\sigma_0^2(\\sigma_0^2 + \\tau^2)^{-1}\\sigma_0^2) \\\\\n",
    "&= N\\left(\\frac{\\mu_0 \\tau^2 + y \\sigma_0^2}{\\tau^2 + \\sigma_0^2}, \\frac{\\sigma_0^2 \\tau^2}{\\tau^2 + \\sigma_0^2}\\right) \\\\\n",
    "&= N\\left(\\frac{\\frac{\\mu_0}{\\sigma_0^2} + \\frac{y}{\\tau^2}}{\\frac{1}{\\sigma_0^2}+\\frac{1}{\\tau^2}}, \\frac{1}{\\frac{1}{\\sigma_0^2} + \\frac{1}{\\tau^2}}\\right), \\quad \\mu_0 = 100, \\sigma_0 = 15, \\tau = 5, y=117\\\\\n",
    "&= N(115.3, 22.5)\n",
    "\\end{align*}\n",
    "\n",
    "Let's try to visualize using Python:"
   ]
  },
  {
   "cell_type": "code",
   "execution_count": 1,
   "metadata": {},
   "outputs": [
    {
     "data": {
      "image/png": "[encoded data removed]",
      "text/plain": [
       "<Figure size 432x288 with 1 Axes>"
      ]
     },
     "metadata": {
      "needs_background": "light"
     },
     "output_type": "display_data"
    }
   ],
   "source": [
    "import matplotlib.pyplot as plt\n",
    "import numpy as np\n",
    "import scipy.stats as stats\n",
    "\n",
    "mu = 115.3\n",
    "sd = 22.5**0.5\n",
    "\n",
    "mu_prior = 100\n",
    "sd_prior = 15\n",
    "\n",
    "theta_val = np.arange(50, 150, 1)\n",
    "\n",
    "dens = stats.norm.pdf(theta_val, mu, sd)\n",
    "dens_prior = stats.norm.pdf(theta_val, mu_prior, sd_prior)\n",
    "\n",
    "plt.plot(theta_val, dens, label=\"post\")\n",
    "plt.plot(theta_val, dens_prior, label=\"prior\")\n",
    "plt.legend()\n",
    "plt.show()"
   ]
  },
  {
   "cell_type": "markdown",
   "metadata": {},
   "source": [
    "90% credibility interval:"
   ]
  },
  {
   "cell_type": "code",
   "execution_count": 3,
   "metadata": {},
   "outputs": [
    {
     "data": {
      "text/plain": [
       "array([107.53771947, 123.2826685 ])"
      ]
     },
     "execution_count": 3,
     "metadata": {},
     "output_type": "execute_result"
    }
   ],
   "source": [
    "dens_post = stats.norm.rvs(mu,sd, 10**4)\n",
    "np.quantile(dens_post, [0.05, 0.95])"
   ]
  },
  {
   "cell_type": "markdown",
   "metadata": {},
   "source": [
    "__NOTE:__ The \"Flynn effect\". Are we getting smarter, or are we getting better at solving IQ-test problems? https://en.wikipedia.org/wiki/Flynn_effect"
   ]
  }
 ],
 "metadata": {
  "kernelspec": {
   "display_name": "Python 3",
   "language": "python",
   "name": "python3"
  },
  "language_info": {
   "codemirror_mode": {
    "name": "ipython",
    "version": 3
   },
   "file_extension": ".py",
   "mimetype": "text/x-python",
   "name": "python",
   "nbconvert_exporter": "python",
   "pygments_lexer": "ipython3",
   "version": "3.8.5"
  }
 },
 "nbformat": 4,
 "nbformat_minor": 4
}
