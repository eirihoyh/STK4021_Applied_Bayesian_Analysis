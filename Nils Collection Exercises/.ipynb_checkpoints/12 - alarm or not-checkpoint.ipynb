{
 "cells": [
  {
   "cell_type": "markdown",
   "metadata": {},
   "source": [
    "# Alarm or no alarm?\n",
    "\n",
    "_y_ is binomial(n,$\\theta$), that the action space is {alarm, no alarm}. The loss function is as follows:\n",
    "\n",
    "\\begin{align*}\n",
    " L(\\theta, \\text{no alarm}) &= \n",
    " \\begin{cases} \n",
    "  5000 & \\text{if}\\; \\theta > 0.15 \\\\\n",
    "  0 & \\text{if}\\; \\theta < 0.15\n",
    "  \\end{cases} \\\\\n",
    " L(\\theta, \\text{alarm}) &= \n",
    "  \\begin{cases} \n",
    "  0 & \\text{if}\\; \\theta > 0.15 \\\\\n",
    "  1000 & \\text{if}\\; \\theta < 0.15\n",
    "  \\end{cases}\n",
    "\\end{align*}\n",
    "\n",
    "When is it the right decision to push \"alarm\"? Find the posterior distribution given prior $p(\\theta)$. So, for n=50, for what values of _y_ should one decide on \"alarm\"?"
   ]
  },
  {
   "cell_type": "markdown",
   "metadata": {},
   "source": [
    "## (a) \n",
    "\n",
    "Given a uniform prior, find the posterior and _y_ value for when to push alarm.\n",
    "\n",
    "We can use $\\theta \\sim Beta(1,1)$ as a uniform prior. We know that the prior is:\n",
    "\n",
    "$$\\theta \\sim Beta(a, b)$$\n",
    "\n",
    "and our likelihood function is:\n",
    "\n",
    "$$y | \\theta \\sim Bin(n, \\theta), \\quad \\text{n=50}$$\n",
    "\n",
    "Calculation of the posterior:\n",
    "\n",
    "\\begin{align*}\n",
    "\\pi(\\theta|y) &= \\frac{1}{f_{marg}(y)} p(\\theta) f(y|\\theta) \\\\\n",
    "&= \\frac{1}{f_{marg}(y)} \\frac{\\Gamma(a+b)}{\\Gamma(a)\\Gamma(b)} \\theta^{a-1} (1-\\theta)^{b-1} \\binom{n}{y} \\theta^y (1-\\theta)^{n-y} \\\\\n",
    "&\\propto \\theta^{a+y-1} (1-\\theta)^{b+n-y-1}\n",
    "\\end{align*}\n",
    "\n",
    "which will yield\n",
    "\n",
    "$$\\theta | y \\sim Beta(a+y, b+n-y)$$\n",
    "\n",
    "We also must take into considuration the risk of \"alarm\" and \"no alarm\". So first the risk of pushing alarm:\n",
    "\n",
    "\\begin{align*}\n",
    " R_{\\text{alarm}} &= E\\left(L(\\theta, \\text{ alarm})|data\\right) \\\\\n",
    " &= 1000 \\cdot Pr(\\theta < 0.15 | data) \\\\\n",
    " &= 1000 G, \\quad \\text{where } G = Pr(\\theta<0.15|data)\n",
    "\\end{align*}\n",
    "\n",
    "Risk of not pushing alarm\n",
    "\n",
    "\\begin{align*}\n",
    " R_{\\text{no alarm}} &= E\\left(L(\\theta, \\text{ no alarm})|data\\right) \\\\\n",
    " &= 5000 \\cdot Pr(\\theta > 0.15 | data) \\\\\n",
    " &= 5000(1 - G) \n",
    "\\end{align*}\n",
    "\n",
    "We want to push alarm when $R_{\\text{alarm}} < R_{\\text{no alarm}}$ (expected loss is greater for not pushing alarm):\n",
    "\n",
    "\\begin{align*}\n",
    " 1000\\cdot G(0.15) &< 5000 \\cdot (1 - G(0.15)) \\\\\n",
    " G(0.15) &< 5 - 5G(0.15) \\\\\n",
    " G(0.15) &< \\frac56 = 0.8333\n",
    "\\end{align*}\n",
    "\n",
    "So for a=b=1, this will give us"
   ]
  },
  {
   "cell_type": "code",
   "execution_count": 1,
   "metadata": {},
   "outputs": [
    {
     "name": "stdout",
     "output_type": "stream",
     "text": [
      "0 0.9997486000358442\n",
      "1 0.997486000358442\n",
      "2 0.9875039429581385\n",
      "3 0.9587321304513812\n",
      "4 0.8978035863194245\n",
      "5 0.7967338837005309\n",
      "We need a y value of at least 5 to push alarm\n"
     ]
    }
   ],
   "source": [
    "import numpy as np\n",
    "import scipy.stats as stats\n",
    "n = 50\n",
    "y_val = np.arange(0, n+1, 1)\n",
    "limit = 5/6\n",
    "a = 1\n",
    "b = 1\n",
    "\n",
    "G1 = stats.beta.cdf(0.15, a+y_val, b+n-y_val)\n",
    "\n",
    "\n",
    "for i, prob in enumerate(G1):\n",
    "    print(i, prob)\n",
    "    if prob < limit:\n",
    "        print(f\"We need a y value of at least {i} to push alarm\")\n",
    "        break"
   ]
  },
  {
   "cell_type": "markdown",
   "metadata": {},
   "source": [
    "## (b)\n",
    "\n",
    "Now do the same thing, but with prior $\\theta \\sim Beta(2,8)$"
   ]
  },
  {
   "cell_type": "code",
   "execution_count": 3,
   "metadata": {},
   "outputs": [
    {
     "name": "stdout",
     "output_type": "stream",
     "text": [
      "0 0.9992182472355202\n",
      "1 0.9955680923476412\n",
      "2 0.9833293377235763\n",
      "3 0.9530924145347104\n",
      "4 0.8943972106975\n",
      "5 0.8011754163678123\n",
      "We need a y value of at least 5 to push alarm\n"
     ]
    }
   ],
   "source": [
    "import numpy as np\n",
    "import scipy.stats as stats\n",
    "n = 50\n",
    "y_val = np.arange(0, n+1, 1)\n",
    "limit = 5/6\n",
    "a = 2\n",
    "b = 8\n",
    "\n",
    "G1 = stats.beta.cdf(0.15, a+y_val, b+n-y_val)\n",
    "\n",
    "\n",
    "for i, prob in enumerate(G1):\n",
    "    print(i, prob)\n",
    "    if prob < limit:\n",
    "        print(f\"We need a y value of at least {i} to push alarm\")\n",
    "        break"
   ]
  },
  {
   "cell_type": "markdown",
   "metadata": {},
   "source": [
    "## (c) \n",
    "\n",
    "Now, a more special situation. We now have a mixture prior with two Beta distributions:\n",
    "\n",
    "$$\\theta \\sim \\frac12 Beta(2,8) + \\frac12 Beta(8,2)$$\n",
    "\n",
    "This will make the math a bit more complicated (we'll need the marginal distribution). So, given the prior above and a binomial as our likelihood, we'll get the following posterior:\n",
    "\n",
    "$$\\theta | y \\sim w_1(y) Beta(2+y, 8+n-y) + w_2(y) Beta(8+y, 2+n-y)$$\n",
    "\n",
    "where $w_1(y) = \\frac{f_1(y)}{f_1(y) + f_2(y)}$ and $w_2(y) = \\frac{f_2(y)}{f_1(y) + f_2(y)}$. \n",
    "\n",
    "$f_i(y)$ (where i=1,2) is the marginal distribution of i:\n",
    "\n",
    "\\begin{equation*}\n",
    "f_i(y) = \\frac{n!}{y!(n-y)!} \\cdot \\frac{\\Gamma(a_i+b_i)}{\\Gamma(a_i)\\Gamma(b_i)} \\cdot \\frac{\\Gamma(a_i+y) \\Gamma(b_i + n - y)}{\\Gamma(a_i+b_i+n)}\n",
    "\\end{equation*}\n",
    "\n",
    "In this exercise we'll be using the log gamma function to avoid too large of numbers (and avoid floating limits). So first lets calculate the marginals:"
   ]
  },
  {
   "cell_type": "code",
   "execution_count": 4,
   "metadata": {},
   "outputs": [],
   "source": [
    "from scipy.special import loggamma as lg\n",
    "a1, b1 = 2, 8\n",
    "a2, b2 = 8, 2\n",
    "f1 = [lg(n+1) - lg(y+1)-lg(n-y+1) + lg(a1+y) + lg(b1+n-y) - lg(n+a1+b1) + lg(a1+b1) - lg(a1)-lg(b1) for y in y_val]  \n",
    "f2 = [lg(n+1) - lg(y+1)-lg(n-y+1) + lg(a2+y) + lg(b2+n-y) - lg(n+a2+b2) + lg(a2+b2) - lg(a2)-lg(b2) for y in y_val]"
   ]
  },
  {
   "cell_type": "code",
   "execution_count": 5,
   "metadata": {},
   "outputs": [
    {
     "name": "stdout",
     "output_type": "stream",
     "text": [
      "1.0000000000000049 1.000000000000007\n"
     ]
    }
   ],
   "source": [
    "# note that f1 and f2 are pdfs and should sum to 1\n",
    "print(sum(np.exp(f1)), sum(np.exp(f2)))"
   ]
  },
  {
   "cell_type": "markdown",
   "metadata": {},
   "source": [
    "Now that we have have the marginals, we can caluclate the \"weights\" and find when we should push alarm:"
   ]
  },
  {
   "cell_type": "code",
   "execution_count": 6,
   "metadata": {},
   "outputs": [
    {
     "name": "stdout",
     "output_type": "stream",
     "text": [
      "0 0.9992181850060875\n",
      "1 0.9955676940824276\n",
      "2 0.9833276210296632\n",
      "3 0.9530868181347092\n",
      "4 0.8943825466878529\n",
      "5 0.8011434012397657\n",
      "We need a y value of at least 5 to push alarm\n"
     ]
    }
   ],
   "source": [
    "w1 = np.exp(f1) / (np.exp(f1)+np.exp(f2))\n",
    "w2 = np.exp(f2) / (np.exp(f1)+np.exp(f2))\n",
    "\n",
    "G3 = w1*stats.beta.cdf(0.15, a1+y_val, b1+n-y_val) + \\\n",
    "w2*stats.beta.cdf(0.15, a2+y_val, b2+n-y_val)\n",
    "\n",
    "\n",
    "for i, prob in enumerate(G3):\n",
    "    print(i, prob)\n",
    "    if prob < limit:\n",
    "        print(f\"We need a y value of at least {i} to push alarm\")\n",
    "        break"
   ]
  },
  {
   "cell_type": "code",
   "execution_count": 14,
   "metadata": {},
   "outputs": [
    {
     "data": {
      "text/plain": [
       "array([1., 1., 1., 1., 1., 1., 1., 1., 1., 1., 1., 1., 1., 1., 1., 1., 1.,\n",
       "       1., 1., 1., 1., 1., 1., 1., 1., 1., 1., 1., 1., 1., 1., 1., 1., 1.,\n",
       "       1., 1., 1., 1., 1., 1., 1., 1., 1., 1., 1., 1., 1., 1., 1., 1., 1.])"
      ]
     },
     "execution_count": 14,
     "metadata": {},
     "output_type": "execute_result"
    }
   ],
   "source": [
    "# also note, w1+w2 should be equal to 1 for all y values\n",
    "w1+w2"
   ]
  }
 ],
 "metadata": {
  "kernelspec": {
   "display_name": "Python 3",
   "language": "python",
   "name": "python3"
  },
  "language_info": {
   "codemirror_mode": {
    "name": "ipython",
    "version": 3
   },
   "file_extension": ".py",
   "mimetype": "text/x-python",
   "name": "python",
   "nbconvert_exporter": "python",
   "pygments_lexer": "ipython3",
   "version": "3.8.5"
  }
 },
 "nbformat": 4,
 "nbformat_minor": 4
}
