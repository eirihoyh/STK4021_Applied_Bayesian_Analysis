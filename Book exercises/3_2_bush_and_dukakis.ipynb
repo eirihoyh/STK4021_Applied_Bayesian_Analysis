{
 "cells": [
  {
   "cell_type": "markdown",
   "metadata": {},
   "source": [
    "# Comparison of two multinomial observations\n",
    "\n",
    "_We have that pre-debate voters in the US where as follows:_\n",
    "\n",
    "* Total number of people asked: 639\n",
    "* Bush: 294\n",
    "* Dukakis: 307\n",
    "* No opinion/other: 38\n",
    "\n",
    "_After the debate, they asked 639 new people what they where going to vote and got the follwoing result:_\n",
    "\n",
    "* Total number of people asked: 639\n",
    "* Bush: 288\n",
    "* Dukakis: 332\n",
    "* No opinion/other: 19\n",
    "\n",
    "_we also assume that the surveys are iid's._\n",
    "\n",
    "_First, mode lthe data with two different multinomial distributions_\n",
    "\n",
    "Pre debate:\n",
    "\n",
    "$$(\\theta_1, \\theta_2, \\theta_3)|data \\sim Dir(294, 307, 38)$$\n",
    "\n",
    "After debate:\n",
    "\n",
    "\n",
    "$$(\\theta_1^*, \\theta_2^*, \\theta_3^*)|data \\sim Dir(288, 332, 19)$$\n",
    "\n",
    "_For j=1,2 , let $\\alpha_j$ be the propotion of voters who prefferred Bush, out of these who had a preference for either Bush or Dukakis at the time of survey j._\n",
    "\n",
    "$$\\alpha_1 = \\frac{\\theta_1}{\\theta_1 + \\theta_2} \\qquad \\alpha_2 = \\frac{\\theta_1^*}{\\theta_1^* + \\theta_2^*}$$\n",
    "\n",
    "_Plot a histrogram of the posterior density for $\\alpha_2 - \\alpha_1$. What is $P(\\alpha2 > \\alpha_1)$?_\n",
    "\n",
    "Can be solved in multiple ways. The first way is to use the dirichlet distribution:"
   ]
  },
  {
   "cell_type": "code",
   "execution_count": 3,
   "metadata": {},
   "outputs": [
    {
     "data": {
      "image/png": "[encoded data removed]",
      "text/plain": [
       "<Figure size 432x288 with 1 Axes>"
      ]
     },
     "metadata": {
      "needs_background": "light"
     },
     "output_type": "display_data"
    }
   ],
   "source": [
    "import scipy.stats as stats\n",
    "import matplotlib.pyplot as plt\n",
    "import numpy as np\n",
    "\n",
    "pre_debate = np.array([294,307, 38])\n",
    "post_debate = np.array([288, 332, 19])\n",
    "\n",
    "dist_pre = stats.dirichlet.rvs(pre_debate, size=10**4)\n",
    "dist_post = stats.dirichlet.rvs(post_debate, size=10**4)\n",
    "\n",
    "alpha_1 = dist_pre[:,0]/(dist_pre[:,0] + dist_pre[:,1])\n",
    "alpha_2 = dist_post[:,0]/(dist_post[:,0] + dist_post[:,1])\n",
    "dist_diff1 = alpha_2 - alpha_1 \n",
    "\n",
    "plt.hist(dist_diff1, bins=50)\n",
    "plt.show()"
   ]
  },
  {
   "cell_type": "markdown",
   "metadata": {},
   "source": [
    "Another approach is to use two betas (since we now have a binary problem):"
   ]
  },
  {
   "cell_type": "code",
   "execution_count": 5,
   "metadata": {},
   "outputs": [
    {
     "data": {
      "image/png": "[encoded data removed]",
      "text/plain": [
       "<Figure size 432x288 with 1 Axes>"
      ]
     },
     "metadata": {
      "needs_background": "light"
     },
     "output_type": "display_data"
    }
   ],
   "source": [
    "alpha1 = stats.beta.rvs(pre_debate[0], pre_debate[1], size=10**4)\n",
    "alpha2 = stats.beta.rvs(post_debate[0], post_debate[1], size=10**4)\n",
    "\n",
    "dist_diff2 = alpha2 - alpha1\n",
    "plt.hist(dist_diff2, bins=50)\n",
    "plt.show()"
   ]
  },
  {
   "cell_type": "markdown",
   "metadata": {},
   "source": [
    "A third way is to use Gamma distributions (which is discussed more in depth in Nils Collection ex. 13). I will not use this approach now, but good too know that there are multiple ways to reach the same goal.\n",
    "\n",
    "As we can see, the plots are approximately the same, indicating that both approaches is equaly good.\n",
    "\n",
    "Now lets calculate $P(\\alpha_2>\\alpha_1)$, which can be re-written as $P(\\alpha_2-\\alpha_1 >0)$:"
   ]
  },
  {
   "cell_type": "code",
   "execution_count": 6,
   "metadata": {},
   "outputs": [
    {
     "name": "stdout",
     "output_type": "stream",
     "text": [
      "First method:\n",
      "p(a_post>a_pre): 0.19439395924529218\n",
      "Second method:\n",
      "p(a_post>a_pre): 0.19420402575715223\n"
     ]
    }
   ],
   "source": [
    "# first method (i) and using normal approximation\n",
    "print(f\"First method:\\np(a_post>a_pre): {stats.norm.sf(0, np.mean(dist_diff1), np.std(dist_diff1))}\")\n",
    "# second method (ii) and using normal approximation\n",
    "print(f\"Second method:\\np(a_post>a_pre): {stats.norm.sf(0, np.mean(dist_diff2), np.std(dist_diff2))}\")"
   ]
  },
  {
   "cell_type": "markdown",
   "metadata": {},
   "source": [
    "We get approximately the same results, which is good :-). We get that there are a 19% probability that the people have switched over to Bush. But, we can not assume that our post debate model is different than our pre debate model based on these numbers. "
   ]
  }
 ],
 "metadata": {
  "kernelspec": {
   "display_name": "Python 3",
   "language": "python",
   "name": "python3"
  },
  "language_info": {
   "codemirror_mode": {
    "name": "ipython",
    "version": 3
   },
   "file_extension": ".py",
   "mimetype": "text/x-python",
   "name": "python",
   "nbconvert_exporter": "python",
   "pygments_lexer": "ipython3",
   "version": "3.8.5"
  }
 },
 "nbformat": 4,
 "nbformat_minor": 4
}
