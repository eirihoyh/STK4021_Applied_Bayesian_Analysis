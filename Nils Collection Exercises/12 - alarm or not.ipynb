{
 "cells": [
  {
   "cell_type": "markdown",
   "metadata": {},
   "source": [
    "# Alarm or no alarm?\n",
    "\n",
    "_y_ is binomial(n,$\\theta$), that the action space is {alarm, no alarm}. The loss function is as follows:\n",
    "\n",
    "\\begin{align*}\n",
    " L(\\theta, \\text{no alarm}) &= \n",
    " \\begin{cases} \n",
    "  5000 & \\text{if}\\; \\theta > 0.15 \\\\\n",
    "  0 & \\text{if}\\; \\theta < 0.15\n",
    "  \\end{cases} \\\\\n",
    " L(\\theta, \\text{alarm}) &= \n",
    "  \\begin{cases} \n",
    "  0 & \\text{if}\\; \\theta > 0.15 \\\\\n",
    "  1000 & \\text{if}\\; \\theta < 0.15\n",
    "  \\end{cases}\n",
    "\\end{align*}\n",
    "\n",
    "When is it the right decision to push \"alarm\"? Find the posterior distribution given prior $p(\\theta)$. So, for n=50, for what values of _y_ should one decide on \"alarm\"?"
   ]
  },
  {
   "cell_type": "markdown",
   "metadata": {},
   "source": [
    "## a) \n",
    "\n",
    "Given a uniform prior, find the posterior and _y_ value for when to push alarm.\n",
    "\n",
    "We can use $\\theta \\sim Beta(1,1)$ as a uniform prior. We know that the prior is:\n",
    "\n",
    "$$\\theta \\sim Beta(a, b)$$\n",
    "\n",
    "and our likelihood function is:\n",
    "\n",
    "$$y | \\theta \\sim Bin(n, \\theta), \\quad \\text{n=50}$$\n",
    "\n",
    "Calculation of the posterior:\n",
    "\n",
    "\\begin{align*}\n",
    "\\pi(\\theta|y) &= \\frac{1}{f_{marg}(y)} p(\\theta) f(y|\\theta) \\\\\n",
    "&= \\frac{1}{f_{marg}(y)} \\frac{\\Gamma(a+b)}{\\Gamma(a)\\Gamma(b)} \\theta^{a-1} (1-\\theta)^{b-1} \\binom{n}{y} \\theta^y (1-\\theta)^{n-y} \\\\\n",
    "&\\propto \\theta^{a+y-1} (1-\\theta)^{b+n-y-1}\n",
    "\\end{align*}\n",
    "\n",
    "which will yield\n",
    "\n",
    "$$\\theta | y \\sim Beta(a+y, b+n-y)$$\n",
    "\n",
    "We also must take into considuration the risk of \"alarm\" and \"no alarm\". So first the risk of pushing alarm:\n",
    "\n",
    "\\begin{align*}\n",
    " R_{\\text{alarm}} &= E\\left(L(\\theta, \\text{ alarm})|data\\right) \\\\\n",
    " &= 1000 \\cdot Pr(\\theta < 0.15 | data) \\\\\n",
    " &= 1000 G, \\quad \\text{where } G = Pr(\\theta<0.15|data)\n",
    "\\end{align*}\n",
    "\n",
    "Risk of not pushing alarm\n",
    "\n",
    "\\begin{align*}\n",
    " R_{\\text{no alarm}} &= E\\left(L(\\theta, \\text{ no alarm})|data\\right) \\\\\n",
    " &= 5000 \\cdot Pr(\\theta > 0.15 | data) \\\\\n",
    " &= 5000(1 - G) \n",
    "\\end{align*}\n",
    "\n",
    "We want to push alarm when $R_{\\text{alarm}} < R_{\\text{no alarm}}$ (expected loss is greater for not pushing alarm):\n",
    "\n",
    "\\begin{align*}\n",
    " 1000\\cdot G(0.15) &< 5000 \\cdot (1 - G(0.15)) \\\\\n",
    " G(0.15) &< 5 - 5G(0.15) \\\\\n",
    " G(0.15) &< \\frac56 = 0.8333\n",
    "\\end{align*}\n",
    "\n",
    "So for a=b=1, this will give us"
   ]
  },
  {
   "cell_type": "code",
   "execution_count": 1,
   "metadata": {},
   "outputs": [
    {
     "name": "stdout",
     "output_type": "stream",
     "text": [
      "0 0.9997486000358442\n",
      "1 0.997486000358442\n",
      "2 0.9875039429581385\n",
      "3 0.9587321304513812\n",
      "4 0.8978035863194245\n",
      "5 0.7967338837005309\n",
      "We need a y value of at least 5 to push alarm\n"
     ]
    }
   ],
   "source": [
    "import numpy as np\n",
    "import scipy.stats as stats\n",
    "import matplotlib.pyplot as plt\n",
    "n = 50\n",
    "y_val = np.arange(0, n+1, 1)\n",
    "limit = 5/6\n",
    "a = 1\n",
    "b = 1\n",
    "\n",
    "G1 = stats.beta.cdf(0.15, a+y_val, b+n-y_val)\n",
    "\n",
    "\n",
    "for i, prob in enumerate(G1):\n",
    "    print(i, prob)\n",
    "    if prob < limit:\n",
    "        print(f\"We need a y value of at least {i} to push alarm\")\n",
    "        break"
   ]
  },
  {
   "cell_type": "code",
   "execution_count": 2,
   "metadata": {},
   "outputs": [
    {
     "data": {
      "text/plain": [
       "0.8333333333333334"
      ]
     },
     "execution_count": 2,
     "metadata": {},
     "output_type": "execute_result"
    }
   ],
   "source": [
    "limit"
   ]
  },
  {
   "cell_type": "code",
   "execution_count": null,
   "metadata": {},
   "outputs": [],
   "source": []
  }
 ],
 "metadata": {
  "kernelspec": {
   "display_name": "Python 3",
   "language": "python",
   "name": "python3"
  },
  "language_info": {
   "codemirror_mode": {
    "name": "ipython",
    "version": 3
   },
   "file_extension": ".py",
   "mimetype": "text/x-python",
   "name": "python",
   "nbconvert_exporter": "python",
   "pygments_lexer": "ipython3",
   "version": "3.8.5"
  }
 },
 "nbformat": 4,
 "nbformat_minor": 4
}
