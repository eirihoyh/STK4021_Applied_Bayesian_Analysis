{
 "cells": [
  {
   "cell_type": "markdown",
   "metadata": {},
   "source": [
    "# San Francisco - N cable cars?\n",
    "\n",
    "In San Francisco there exist N calbe cars, numbered sequentially from 1 to N. We see one random cable car thats numbered 203. We want to estimate _N_.\n",
    "\n",
    "## (a)\n",
    "\n",
    "Assume that our prior belifes on _N_ is a gemoetric distribution with mean 100:\n",
    "\n",
    "$$p(N) = \\frac{1}{100} \\frac{99}{100}^{N-1}, \\quad N=1,2,...$$\n",
    "\n",
    "What is the posterior distribution for _N_?\n",
    "\n",
    "To be able to caluclate a posteiror distribution, we need a model/likelihood. In this problem we'll use a uniform distribution:\n",
    "\n",
    "$$f(y|N) = \\frac1N$$\n",
    "\n",
    "Thus the posterior distribution will be:\n",
    "\n",
    "\\begin{align*}\n",
    "\\pi(N|y) &= \\frac{1}{f_{marg}(y)}  \\frac{1}{100} \\frac{99}{100}^{N-1} \\frac1N \\\\\n",
    "&\\propto  \\frac{99}{100}^{N-1} \\frac1N, \\quad \\text{for }N \\geq 203\n",
    "\\end{align*}\n",
    "\n",
    "Note that we need to find our constants in this problem, but we can simulate it!y"
   ]
  },
  {
   "cell_type": "markdown",
   "metadata": {},
   "source": [
    "## (b) \n",
    "\n",
    "What is the posterior mean and standard deviation of _N_?\n",
    "\n",
    "This one can be a be a bit tricky to by hand, but easy to do using computer power. We know that the posterior distribution is \n",
    "\n",
    "$$\\pi(N|y) = \\frac1c \\frac{99}{100}^{N-1} \\frac1N$$\n",
    "\n",
    "Since our posterior is a pmf, we know that it should sum to 1. Let's find our constant:"
   ]
  },
  {
   "cell_type": "code",
   "execution_count": 49,
   "metadata": {},
   "outputs": [
    {
     "name": "stdout",
     "output_type": "stream",
     "text": [
      "Constant: 0.04705083659735962\n",
      "1/c = 21.253607211229006\n"
     ]
    }
   ],
   "source": [
    "import numpy as np\n",
    "import scipy.stats as stats\n",
    "obs = 203\n",
    "N_val = np.arange(1, 10**5, 1)\n",
    "\n",
    "prior = 1/100 * (99/100)**(N_val-1)  # just for visualization later\n",
    "pre_post = (99/100)**(N_val-1) * (1/N_val) * (obs<=N_val) \n",
    "c = sum(pre_post)\n",
    "print(f\"Constant: {c}\")\n",
    "print(f\"1/c = {c**-1}\")"
   ]
  },
  {
   "cell_type": "markdown",
   "metadata": {},
   "source": [
    "Thus our posterior will then be:"
   ]
  },
  {
   "cell_type": "code",
   "execution_count": 50,
   "metadata": {},
   "outputs": [],
   "source": [
    "post = 1/c * pre_post"
   ]
  },
  {
   "cell_type": "markdown",
   "metadata": {},
   "source": [
    "Let's visualize the prior and posterior distribution:"
   ]
  },
  {
   "cell_type": "code",
   "execution_count": 51,
   "metadata": {},
   "outputs": [
    {
     "data": {
      "image/png": "[encoded data removed]",
      "text/plain": [
       "<Figure size 432x288 with 1 Axes>"
      ]
     },
     "metadata": {
      "needs_background": "light"
     },
     "output_type": "display_data"
    }
   ],
   "source": [
    "import matplotlib.pyplot as plt\n",
    "plt.plot(N_val[1:500], prior[1:500], label=\"prior\")\n",
    "plt.plot(N_val[1:500],post[1:500], label=\"post\")\n",
    "plt.legend()\n",
    "plt.show()"
   ]
  },
  {
   "cell_type": "markdown",
   "metadata": {},
   "source": [
    "Now, for the mean and stdandard deviations for the posterior distribution. Formula for the expected value:\n",
    "\n",
    "\\begin{align*}\n",
    "E(N) &= \\sum_{N=203}^{\\infty} N \\cdot \\frac1c \\frac{99}{100}^{N-1} \\frac1N \\\\\n",
    "&= \\frac1c \\sum_{N=203}^{\\infty} \\frac{99}{100}^{N-1}\n",
    "\\end{align*}\n",
    "\n",
    "For the standard deviation we get the following formula:\n",
    "\n",
    "\\begin{align*}\n",
    "SD(N) &= \\sqrt{Var(N)} \\\\\n",
    "&= \\sqrt{E(N^2) - (E(N))^2} \\\\\n",
    "&= \\sqrt{\\frac1c \\sum_{N=203}^{\\infty} N \\cdot \\frac{99}{100}^{N-1} - (E(N))^2}\n",
    "\\end{align*}\n",
    "\n",
    "Lets find them by using Python:"
   ]
  },
  {
   "cell_type": "code",
   "execution_count": 53,
   "metadata": {},
   "outputs": [
    {
     "name": "stdout",
     "output_type": "stream",
     "text": [
      "Mean: 279.089\n",
      "SD: 79.965\n"
     ]
    }
   ],
   "source": [
    "mean_post = 1/c * sum([(99/100)**(N-1) for N in range(obs, 10**5, 1)])\n",
    "sd_post = np.sqrt(1/c *sum([N*(99/100)**(N-1) for N in range(obs, 10**5, 1)]) - mean_post**2)\n",
    "\n",
    "print(f\"Mean: {round(mean_post, 3)}\\nSD: {round(sd_post, 3)}\")"
   ]
  },
  {
   "cell_type": "markdown",
   "metadata": {},
   "source": [
    "__Extra from Nils__\n",
    "\n",
    "Say now that we now have 3 observations instead of 1. Our observations are 203, 157 and 222. Now, our likelihood would look like this:\n",
    "\n",
    "$$f(y_1, y_2, y_3|N) = \\left(\\frac{1}{N}\\right)^3$$\n",
    "\n",
    "and our posterior will then become:\n",
    "\n",
    "$$\\pi(N|y_1,y_2,y_3) = \\frac1c \\cdot \\left(\\frac{1}{N}\\right)^3 \\frac{99}{100}^{N-1}$$\n",
    "\n",
    "Calculate mean and standard deviation using the \"new\" posterior and compare the results."
   ]
  },
  {
   "cell_type": "code",
   "execution_count": 62,
   "metadata": {},
   "outputs": [
    {
     "name": "stdout",
     "output_type": "stream",
     "text": [
      "Mean: 272.578\n",
      "SD: 55.09\n"
     ]
    }
   ],
   "source": [
    "new_obs = [203, 157, 222]\n",
    "new_pre_post = (99/100)**(N_val-1) * (1/N_val)**3 * (max(new_obs)<=N_val) \n",
    "c = sum(new_pre_post)\n",
    "new_post = 1/c * new_pre_post\n",
    "\n",
    "mean_new_post = 1/c * sum([(1/N)**2 * (99/100)**(N-1) for N in range(max(new_obs), 10**5, 1)])\n",
    "sd_new_post = np.sqrt(1/c *sum([1/N * (99/100)**(N-1) for N in range(max(new_obs), 10**5, 1)]) - mean_new_post**2)\n",
    "\n",
    "print(f\"Mean: {round(mean_new_post, 3)}\\nSD: {round(sd_new_post, 3)}\")"
   ]
  },
  {
   "cell_type": "code",
   "execution_count": 63,
   "metadata": {},
   "outputs": [
    {
     "data": {
      "image/png": "[encoded data removed]",
      "text/plain": [
       "<Figure size 432x288 with 1 Axes>"
      ]
     },
     "metadata": {
      "needs_background": "light"
     },
     "output_type": "display_data"
    }
   ],
   "source": [
    "plt.plot(N_val[1:500], prior[1:500], label=\"prior\")\n",
    "plt.plot(N_val[1:500],post[1:500], label=\"old post\")\n",
    "plt.plot(N_val[1:500],new_post[1:500], label=\"new post\")\n",
    "plt.legend()\n",
    "plt.show()"
   ]
  },
  {
   "cell_type": "code",
   "execution_count": null,
   "metadata": {},
   "outputs": [],
   "source": []
  }
 ],
 "metadata": {
  "kernelspec": {
   "display_name": "Python 3",
   "language": "python",
   "name": "python3"
  },
  "language_info": {
   "codemirror_mode": {
    "name": "ipython",
    "version": 3
   },
   "file_extension": ".py",
   "mimetype": "text/x-python",
   "name": "python",
   "nbconvert_exporter": "python",
   "pygments_lexer": "ipython3",
   "version": "3.8.5"
  }
 },
 "nbformat": 4,
 "nbformat_minor": 4
}
